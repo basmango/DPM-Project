{
  "cells": [
    {
      "cell_type": "code",
      "execution_count": 1,
      "metadata": {
        "id": "ycLZa2xCnhJ0"
      },
      "outputs": [],
      "source": [
        "import tweepy\n",
        "import pandas as pd"
      ]
    },
    {
      "cell_type": "code",
      "execution_count": 4,
      "metadata": {
        "id": "92QVcCq7nwQZ"
      },
      "outputs": [],
      "source": [
        "# #Anup\n",
        "# A_Key=\"V2MKVagJ7FHniRjtZ6hv1nOx3\"\n",
        "# A_Key_Secret=\"Wza1nJO6oSAhUryZ68arQDMvEPh3GbhcpBn9kqPHl30uw9gRw9\"\n",
        "# A_Token = \"1435660546930475012-fzLwcYBUzeqU4Q29T12mc9JHkn4XgS\"\n",
        "# A_Token_Secret = \"c7Sl327JDfIZkHw8s3LENFgH77tKcutM9lcG3m59C9Cxh\""
      ]
    },
    {
      "cell_type": "code",
      "execution_count": 2,
      "metadata": {
        "id": "xLeNIjEqNYqU"
      },
      "outputs": [],
      "source": [
        "#Archit\n",
        "A_Key=\"R1hHLkEWr84GNWySQBE2lWE7N\"\n",
        "A_Key_Secret=\"ersg9u2PCwCbrl59I1Ua581i130892eJFjpNUm37kjvzVi2PTT\"\n",
        "A_Token = \"922444225-lwQwTdECIQK3JtHHpOjL66FKVDSUeCoxfi9825lH\"\n",
        "A_Token_Secret = \"8bJRiEul86NwPlvRyk1NiQlkPIN3Rz9YyplVqqRyK3b0H\"\n",
        "Bearer_token = \"AAAAAAAAAAAAAAAAAAAAAE0tVgEAAAAAW1xRkooPnzXoJSbhv1u%2BrLHjAsY%3DjE2J9jgjHHW75zw85h6gMOP5iewTBIBcBSB0jTUfLo252TsRW3\""
      ]
    },
    {
      "cell_type": "code",
      "execution_count": 3,
      "metadata": {
        "id": "sHs7z43yoV4B"
      },
      "outputs": [],
      "source": [
        "auth = tweepy.OAuthHandler(A_Key,A_Key_Secret)\n",
        "auth.set_access_token(A_Token,A_Token_Secret)\n",
        "api = tweepy.API(auth)"
      ]
    },
    {
      "cell_type": "code",
      "execution_count": 7,
      "metadata": {
        "id": "decnIzYro9YR"
      },
      "outputs": [],
      "source": [
        "# cursor = tweepy.Cursor(api.user_timeline, id = 'narendramodi',tweet_mode = \"extended\").items(1)"
      ]
    },
    {
      "cell_type": "code",
      "execution_count": 8,
      "metadata": {
        "id": "k36bccGaq_vp"
      },
      "outputs": [],
      "source": [
        "# for i in cursor:\n",
        "#   # print(i)\n",
        "#   # print(dir(i))\n",
        "#   print(i.full_text)"
      ]
    },
    {
      "cell_type": "code",
      "execution_count": 9,
      "metadata": {
        "id": "g_oKBeBTtOCs"
      },
      "outputs": [],
      "source": [
        "# cursor = tweepy.Cursor(api.search,q = \"virat kohli\",lang = \"en\",tweet_mode = \"extended\",exclude=\"retweets\").items(1)"
      ]
    },
    {
      "cell_type": "code",
      "execution_count": 4,
      "metadata": {},
      "outputs": [],
      "source": [
        "resp1 = api.search_tweets(q = \"(virat AND anushka ) is:retweet \",result_type = \"recent\",count =20)"
      ]
    },
    {
      "cell_type": "code",
      "execution_count": 5,
      "metadata": {
        "id": "2RGc4On2NG4v"
      },
      "outputs": [],
      "source": [
        "cursor = tweepy.Cursor(api.search_tweets,q=\"(virat AND anushka -is:retweet) \",lang = \"en\",tweet_mode = \"extended\",result_type=\"relevant\").items(10)"
      ]
    },
    {
      "cell_type": "code",
      "execution_count": null,
      "metadata": {
        "id": "uzLvAuGkapAW"
      },
      "outputs": [],
      "source": [
        "# cursor = tweepy.Cursor(api.search_30_day,query = \"virat kohli\",environment_name = \"dev30\", fromDate = \"202110200000\", toDate = \"202110210000\").items(1)"
      ]
    },
    {
      "cell_type": "code",
      "execution_count": 6,
      "metadata": {
        "colab": {
          "base_uri": "https://localhost:8080/"
        },
        "id": "o64PdeJ3tfgD",
        "outputId": "373a2aa9-3e7c-4aa1-b698-ea01b303de84"
      },
      "outputs": [
        {
          "name": "stdout",
          "output_type": "stream",
          "text": [
            "Number- 1\n",
            "Amee_19\n",
            "2021-11-24 11:35:11+00:00\n",
            "RT @Sportskeeda: Virat Kohli shares a picture with his wife, Anushka Sharma ❤️\n",
            "\n",
            "📸 @imVkohli\n",
            "\n",
            "#India #TeamIndia https://t.co/Us3Kx1mRvI\n",
            "http://pbs.twimg.com/profile_images/1413430561901748230/QFt-ftrW_normal.jpg\n",
            "Number- 2\n",
            "Yash\n",
            "2021-11-24 11:34:43+00:00\n",
            "RT @Pratikshit6: Virat on pitch       Virat with Anushka https://t.co/XW98Km6wND\n",
            "http://pbs.twimg.com/profile_images/714055325222043649/XQKiJ9xC_normal.jpg\n",
            "Number- 3\n",
            "Kaygee18\n",
            "2021-11-24 10:46:51+00:00\n",
            "@VK__Goat18 @YogeshS60079723 @Madhu50721250 @CricCrazyJohns I would have dragged Virat if I would have found a pic of him having vadapav . But you only respect Anushka apart from him , that's why I brought her\n",
            "http://pbs.twimg.com/profile_images/1459145033337110532/-cXloXdo_normal.jpg\n",
            "Number- 4\n",
            "The 🇮🇳 シ\n",
            "2021-11-24 10:07:33+00:00\n",
            "RT @Pratikshit6: Virat on pitch       Virat with Anushka https://t.co/XW98Km6wND\n",
            "http://pbs.twimg.com/profile_images/1456087021932335106/4u2qvYLo_normal.jpg\n",
            "Number- 5\n",
            "Ashwath\n",
            "2021-11-24 09:58:59+00:00\n",
            "RT @man4_cricket: Virat Kohli and Anushka Sharma's Instagram post and story on Ab De Villiers' retirement. Both of them admire Ab De Villie…\n",
            "http://pbs.twimg.com/profile_images/1390035754395467778/PsGBfm6Y_normal.jpg\n",
            "Number- 6\n",
            "News89 Media\n",
            "2021-11-24 09:45:12+00:00\n",
            "Netizens brutally troll Tony Kakkar after Virat Kohli-Anushka Sharma’s naughty exchange on Instagram goes VIRAL https://t.co/ZXA8jLmlau\n",
            "http://pbs.twimg.com/profile_images/378800000220720338/2636f7258aad0f311c50cd75f11fcd1e_normal.png\n",
            "Number- 7\n",
            "Jai Hind🐰\n",
            "2021-11-24 09:39:22+00:00\n",
            "RT @Pratikshit6: Virat on pitch       Virat with Anushka https://t.co/XW98Km6wND\n",
            "http://pbs.twimg.com/profile_images/1393546512618070019/pJhuKWPQ_normal.jpg\n",
            "Number- 8\n",
            "Godman Chikna\n",
            "2021-11-24 09:32:16+00:00\n",
            "RT @Pratikshit6: Virat on pitch       Virat with Anushka https://t.co/XW98Km6wND\n",
            "http://pbs.twimg.com/profile_images/1460248235562475522/J8nHZ4hx_normal.jpg\n",
            "Number- 9\n",
            "Nikhil Akkistaniˢᵒᵒʳʸᵃᵛᵃⁿˢʰⁱ\n",
            "2021-11-24 09:12:49+00:00\n",
            "RT @Suhitd_18: 1)KL Rahul had a disastrous debut game at MCG in 2014. He made mistakes in the field and played some careless shots with the…\n",
            "http://pbs.twimg.com/profile_images/1437968809810296832/uSVJi5p4_normal.jpg\n",
            "Number- 10\n",
            "DNA\n",
            "2021-11-24 08:48:36+00:00\n",
            "Why is #TonyKakkar being trolled for #ViratKohli's comment? Know here\n",
            "\n",
            "#Viral #Virushka \n",
            "\n",
            "https://t.co/aGDLachI21\n",
            "http://pbs.twimg.com/profile_images/864432203370905601/yWa-6Q9O_normal.jpg\n"
          ]
        }
      ],
      "source": [
        "tempList = []\n",
        "count =0 \n",
        "for i in cursor:\n",
        "  count  = count +1\n",
        "  print(\"Number-\",count)\n",
        "  # print(dir(i))\n",
        "  print(i.user.name)\n",
        "  # print(i.entities['hashtags'].text)\n",
        "  print(i.created_at)\n",
        "  print(i.full_text)\n",
        "  print(i.user.profile_image_url)\n",
        "  # print(i.entities.hashtag)\n",
        "  # tempList.append(str(i.full_text))"
      ]
    },
    {
      "cell_type": "code",
      "execution_count": 3,
      "metadata": {
        "colab": {
          "base_uri": "https://localhost:8080/"
        },
        "id": "KoZ2ZKqePBTI",
        "outputId": "cf0d0cb7-7ad8-46a9-c242-22c1f730aebd"
      },
      "outputs": [],
      "source": [
        "# api.rate_limit_status()"
      ]
    },
    {
      "cell_type": "code",
      "execution_count": 7,
      "metadata": {
        "colab": {
          "base_uri": "https://localhost:8080/",
          "height": 36
        },
        "id": "3u8vQZVb8PMb",
        "outputId": "c20c15aa-6921-4012-c8fb-9d0c9630db9a"
      },
      "outputs": [
        {
          "data": {
            "text/plain": [
              "'4.3.0'"
            ]
          },
          "execution_count": 7,
          "metadata": {},
          "output_type": "execute_result"
        }
      ],
      "source": [
        "tweepy.__version__"
      ]
    },
    {
      "cell_type": "code",
      "execution_count": 8,
      "metadata": {
        "colab": {
          "base_uri": "https://localhost:8080/"
        },
        "id": "Eiy-Hw0s7tYJ",
        "outputId": "c6a152bb-75fe-4c1d-bc2e-daf7dcd4b2b7"
      },
      "outputs": [
        {
          "data": {
            "text/plain": [
              "[]"
            ]
          },
          "execution_count": 8,
          "metadata": {},
          "output_type": "execute_result"
        }
      ],
      "source": [
        "tempList"
      ]
    },
    {
      "cell_type": "code",
      "execution_count": 9,
      "metadata": {
        "id": "edJ0c9vUAFl8"
      },
      "outputs": [],
      "source": [
        "def get_tweetsdf(topic):\n",
        "  tweetList = []\n",
        "  userList = []\n",
        "  likesList = []\n",
        "  datetimeList = []\n",
        "  locationList = []\n",
        "\n",
        "  cursor = tweepy.Cursor(api.search_tweets,q = topic,lang = \"en\",tweet_mode = \"extended\").items(200) #exculde = retweets\n",
        "  for t in cursor:\n",
        "    tweetList.append(t.full_text)\n",
        "    userList.append(t.user.name)\n",
        "    likesList.append(t.favorite_count)\n",
        "    locationList.append(t.user.location)\n",
        "    datetimeList.append(t.created_at)\n",
        "  \n",
        "  df =  pd.DataFrame({\"User Name\":userList,\"Tweets\":tweetList,\"Likes\":likesList,\n",
        "                      \"Date Time\":datetimeList,\"Location\":locationList })\n",
        "  return df"
      ]
    },
    {
      "cell_type": "code",
      "execution_count": 11,
      "metadata": {
        "id": "VDZt-UnLCS9N"
      },
      "outputs": [],
      "source": [
        "df1 = get_tweetsdf(\"virat kohli\")"
      ]
    },
    {
      "cell_type": "code",
      "execution_count": 12,
      "metadata": {},
      "outputs": [
        {
          "data": {
            "text/html": [
              "<div>\n",
              "<style scoped>\n",
              "    .dataframe tbody tr th:only-of-type {\n",
              "        vertical-align: middle;\n",
              "    }\n",
              "\n",
              "    .dataframe tbody tr th {\n",
              "        vertical-align: top;\n",
              "    }\n",
              "\n",
              "    .dataframe thead th {\n",
              "        text-align: right;\n",
              "    }\n",
              "</style>\n",
              "<table border=\"1\" class=\"dataframe\">\n",
              "  <thead>\n",
              "    <tr style=\"text-align: right;\">\n",
              "      <th></th>\n",
              "      <th>User Name</th>\n",
              "      <th>Tweets</th>\n",
              "      <th>Likes</th>\n",
              "      <th>Date Time</th>\n",
              "      <th>Location</th>\n",
              "    </tr>\n",
              "  </thead>\n",
              "  <tbody>\n",
              "    <tr>\n",
              "      <th>0</th>\n",
              "      <td>#KingKohli👑</td>\n",
              "      <td>RT @lxkartik: Stereo Hearts × Virat Kohli\\n\\nB...</td>\n",
              "      <td>0</td>\n",
              "      <td>2021-11-24 12:00:27+00:00</td>\n",
              "      <td></td>\n",
              "    </tr>\n",
              "    <tr>\n",
              "      <th>1</th>\n",
              "      <td>Anjanish Tripathi</td>\n",
              "      <td>RT @KollyfiedGal: ➡️ICC rewarding Virat Kohli ...</td>\n",
              "      <td>0</td>\n",
              "      <td>2021-11-24 12:00:25+00:00</td>\n",
              "      <td>Logo ke dil me😍</td>\n",
              "    </tr>\n",
              "    <tr>\n",
              "      <th>2</th>\n",
              "      <td>Raziya Khan 🇵🇰</td>\n",
              "      <td>• Most Runs since 2020\\n       (Runs/Inn | Avg...</td>\n",
              "      <td>1</td>\n",
              "      <td>2021-11-24 12:00:11+00:00</td>\n",
              "      <td>Islamabad, Pakistan</td>\n",
              "    </tr>\n",
              "    <tr>\n",
              "      <th>3</th>\n",
              "      <td>Khan</td>\n",
              "      <td>RT @daniel86cricket: International centuries i...</td>\n",
              "      <td>0</td>\n",
              "      <td>2021-11-24 12:00:10+00:00</td>\n",
              "      <td></td>\n",
              "    </tr>\n",
              "    <tr>\n",
              "      <th>4</th>\n",
              "      <td>Uday Kumar Storm 22</td>\n",
              "      <td>RT @man4_cricket: Virat Kohli Practicing batti...</td>\n",
              "      <td>0</td>\n",
              "      <td>2021-11-24 11:59:55+00:00</td>\n",
              "      <td></td>\n",
              "    </tr>\n",
              "    <tr>\n",
              "      <th>...</th>\n",
              "      <td>...</td>\n",
              "      <td>...</td>\n",
              "      <td>...</td>\n",
              "      <td>...</td>\n",
              "      <td>...</td>\n",
              "    </tr>\n",
              "    <tr>\n",
              "      <th>195</th>\n",
              "      <td>PraveeN</td>\n",
              "      <td>RT @ComeOnCricket: Highest % of team runs for ...</td>\n",
              "      <td>0</td>\n",
              "      <td>2021-11-24 11:39:16+00:00</td>\n",
              "      <td></td>\n",
              "    </tr>\n",
              "    <tr>\n",
              "      <th>196</th>\n",
              "      <td>Thala Addictzz ᴺᴷᴾ 🔥</td>\n",
              "      <td>RT @ChariBannu: Top ODI Run Scorers in the Wor...</td>\n",
              "      <td>0</td>\n",
              "      <td>2021-11-24 11:39:07+00:00</td>\n",
              "      <td>india</td>\n",
              "    </tr>\n",
              "    <tr>\n",
              "      <th>197</th>\n",
              "      <td>Hp Prasad</td>\n",
              "      <td>RT @man4_cricket: Virat Kohli in the Nets batt...</td>\n",
              "      <td>0</td>\n",
              "      <td>2021-11-24 11:38:55+00:00</td>\n",
              "      <td></td>\n",
              "    </tr>\n",
              "    <tr>\n",
              "      <th>198</th>\n",
              "      <td>Ravi VJ BEAST</td>\n",
              "      <td>RT @man4_cricket: Virat Kohli slips at No.11 P...</td>\n",
              "      <td>0</td>\n",
              "      <td>2021-11-24 11:38:55+00:00</td>\n",
              "      <td>Erode district</td>\n",
              "    </tr>\n",
              "    <tr>\n",
              "      <th>199</th>\n",
              "      <td>Rahul Mistry</td>\n",
              "      <td>Ian Smith said, \"India have left out Virat Koh...</td>\n",
              "      <td>1</td>\n",
              "      <td>2021-11-24 11:38:51+00:00</td>\n",
              "      <td>Gandevi, India</td>\n",
              "    </tr>\n",
              "  </tbody>\n",
              "</table>\n",
              "<p>200 rows × 5 columns</p>\n",
              "</div>"
            ],
            "text/plain": [
              "                User Name                                             Tweets  \\\n",
              "0             #KingKohli👑  RT @lxkartik: Stereo Hearts × Virat Kohli\\n\\nB...   \n",
              "1       Anjanish Tripathi  RT @KollyfiedGal: ➡️ICC rewarding Virat Kohli ...   \n",
              "2          Raziya Khan 🇵🇰  • Most Runs since 2020\\n       (Runs/Inn | Avg...   \n",
              "3                    Khan  RT @daniel86cricket: International centuries i...   \n",
              "4     Uday Kumar Storm 22  RT @man4_cricket: Virat Kohli Practicing batti...   \n",
              "..                    ...                                                ...   \n",
              "195               PraveeN  RT @ComeOnCricket: Highest % of team runs for ...   \n",
              "196  Thala Addictzz ᴺᴷᴾ 🔥  RT @ChariBannu: Top ODI Run Scorers in the Wor...   \n",
              "197             Hp Prasad  RT @man4_cricket: Virat Kohli in the Nets batt...   \n",
              "198         Ravi VJ BEAST  RT @man4_cricket: Virat Kohli slips at No.11 P...   \n",
              "199          Rahul Mistry  Ian Smith said, \"India have left out Virat Koh...   \n",
              "\n",
              "     Likes                 Date Time             Location  \n",
              "0        0 2021-11-24 12:00:27+00:00                       \n",
              "1        0 2021-11-24 12:00:25+00:00      Logo ke dil me😍  \n",
              "2        1 2021-11-24 12:00:11+00:00  Islamabad, Pakistan  \n",
              "3        0 2021-11-24 12:00:10+00:00                       \n",
              "4        0 2021-11-24 11:59:55+00:00                       \n",
              "..     ...                       ...                  ...  \n",
              "195      0 2021-11-24 11:39:16+00:00                       \n",
              "196      0 2021-11-24 11:39:07+00:00                india  \n",
              "197      0 2021-11-24 11:38:55+00:00                       \n",
              "198      0 2021-11-24 11:38:55+00:00       Erode district  \n",
              "199      1 2021-11-24 11:38:51+00:00       Gandevi, India  \n",
              "\n",
              "[200 rows x 5 columns]"
            ]
          },
          "execution_count": 12,
          "metadata": {},
          "output_type": "execute_result"
        }
      ],
      "source": [
        "df1"
      ]
    },
    {
      "cell_type": "code",
      "execution_count": 13,
      "metadata": {
        "colab": {
          "base_uri": "https://localhost:8080/",
          "height": 363
        },
        "id": "GKqlvr2xCmot",
        "outputId": "ff76e122-50b3-49a3-d62e-71cea0ef198f"
      },
      "outputs": [
        {
          "data": {
            "text/html": [
              "<div>\n",
              "<style scoped>\n",
              "    .dataframe tbody tr th:only-of-type {\n",
              "        vertical-align: middle;\n",
              "    }\n",
              "\n",
              "    .dataframe tbody tr th {\n",
              "        vertical-align: top;\n",
              "    }\n",
              "\n",
              "    .dataframe thead th {\n",
              "        text-align: right;\n",
              "    }\n",
              "</style>\n",
              "<table border=\"1\" class=\"dataframe\">\n",
              "  <thead>\n",
              "    <tr style=\"text-align: right;\">\n",
              "      <th></th>\n",
              "      <th>User Name</th>\n",
              "      <th>Tweets</th>\n",
              "      <th>Likes</th>\n",
              "      <th>Date Time</th>\n",
              "      <th>Location</th>\n",
              "    </tr>\n",
              "  </thead>\n",
              "  <tbody>\n",
              "    <tr>\n",
              "      <th>0</th>\n",
              "      <td>#KingKohli👑</td>\n",
              "      <td>RT @lxkartik: Stereo Hearts × Virat Kohli\\n\\nB...</td>\n",
              "      <td>0</td>\n",
              "      <td>2021-11-24 12:00:27+00:00</td>\n",
              "      <td></td>\n",
              "    </tr>\n",
              "    <tr>\n",
              "      <th>1</th>\n",
              "      <td>Anjanish Tripathi</td>\n",
              "      <td>RT @KollyfiedGal: ➡️ICC rewarding Virat Kohli ...</td>\n",
              "      <td>0</td>\n",
              "      <td>2021-11-24 12:00:25+00:00</td>\n",
              "      <td>Logo ke dil me😍</td>\n",
              "    </tr>\n",
              "    <tr>\n",
              "      <th>2</th>\n",
              "      <td>Raziya Khan 🇵🇰</td>\n",
              "      <td>• Most Runs since 2020\\n       (Runs/Inn | Avg...</td>\n",
              "      <td>1</td>\n",
              "      <td>2021-11-24 12:00:11+00:00</td>\n",
              "      <td>Islamabad, Pakistan</td>\n",
              "    </tr>\n",
              "    <tr>\n",
              "      <th>3</th>\n",
              "      <td>Khan</td>\n",
              "      <td>RT @daniel86cricket: International centuries i...</td>\n",
              "      <td>0</td>\n",
              "      <td>2021-11-24 12:00:10+00:00</td>\n",
              "      <td></td>\n",
              "    </tr>\n",
              "    <tr>\n",
              "      <th>4</th>\n",
              "      <td>Uday Kumar Storm 22</td>\n",
              "      <td>RT @man4_cricket: Virat Kohli Practicing batti...</td>\n",
              "      <td>0</td>\n",
              "      <td>2021-11-24 11:59:55+00:00</td>\n",
              "      <td></td>\n",
              "    </tr>\n",
              "  </tbody>\n",
              "</table>\n",
              "</div>"
            ],
            "text/plain": [
              "             User Name                                             Tweets  \\\n",
              "0          #KingKohli👑  RT @lxkartik: Stereo Hearts × Virat Kohli\\n\\nB...   \n",
              "1    Anjanish Tripathi  RT @KollyfiedGal: ➡️ICC rewarding Virat Kohli ...   \n",
              "2       Raziya Khan 🇵🇰  • Most Runs since 2020\\n       (Runs/Inn | Avg...   \n",
              "3                 Khan  RT @daniel86cricket: International centuries i...   \n",
              "4  Uday Kumar Storm 22  RT @man4_cricket: Virat Kohli Practicing batti...   \n",
              "\n",
              "   Likes                 Date Time             Location  \n",
              "0      0 2021-11-24 12:00:27+00:00                       \n",
              "1      0 2021-11-24 12:00:25+00:00      Logo ke dil me😍  \n",
              "2      1 2021-11-24 12:00:11+00:00  Islamabad, Pakistan  \n",
              "3      0 2021-11-24 12:00:10+00:00                       \n",
              "4      0 2021-11-24 11:59:55+00:00                       "
            ]
          },
          "execution_count": 13,
          "metadata": {},
          "output_type": "execute_result"
        }
      ],
      "source": [
        "df1.head()"
      ]
    },
    {
      "cell_type": "code",
      "execution_count": 13,
      "metadata": {
        "colab": {
          "base_uri": "https://localhost:8080/",
          "height": 36
        },
        "id": "95colum5H9Fg",
        "outputId": "26534646-e9c8-462d-e7b1-738faa6885cb"
      },
      "outputs": [],
      "source": [
        "# user_name = \"@nameofuser\"\n",
        "# q='to:{}'.format(user_name)\n",
        "# q"
      ]
    },
    {
      "cell_type": "code",
      "execution_count": 14,
      "metadata": {
        "id": "LvGIViZkJfiZ"
      },
      "outputs": [],
      "source": [
        "import nltk\n",
        "from nltk.corpus import stopwords\n",
        "from nltk.stem import PorterStemmer\n",
        "from textblob import TextBlob, Word, Blobber\n",
        "import pandas as pd\n",
        "import numpy as np\n",
        "import re #regular expressions\n",
        "\n",
        "from bokeh.models import ColumnDataSource\n",
        "from bokeh.palettes import Spectral6\n",
        "from bokeh.plotting import figure\n",
        "from bokeh.io import output_notebook, show, output_file"
      ]
    },
    {
      "cell_type": "code",
      "execution_count": 15,
      "metadata": {
        "id": "lKVN0tBBLOfo"
      },
      "outputs": [],
      "source": [
        "#sentiment_analysis using TextBlob\n",
        "def sentiment_analysis(df):\n",
        "  def getSubjectivity(text):\n",
        "   return TextBlob(text).sentiment.subjectivity #subjectivity  =1 (personal opinion) =0(factual point)\n",
        "  \n",
        " #Create a function to get the polarity\n",
        "  def getPolarity(text):\n",
        "   return TextBlob(text).sentiment.polarity #polarity lies [-1,1]\n",
        "  \n",
        " #Create two new columns ‘Subjectivity’ & ‘Polarity’\n",
        "  df[\"Subjectivity\"] =    df[\"Clean Tweets\"].apply(getSubjectivity)\n",
        "  df[\"Polarity\"] = df[\"Clean Tweets\"].apply(getPolarity)\n",
        "  def getAnalysis(score):\n",
        "    if score <= -0.1:\n",
        "      return \"negative\"\n",
        "    elif score > -0.1 and score < 0.1:\n",
        "      return \"neutral\"\n",
        "    else:\n",
        "      return \"positive\"\n",
        "  df[\"Polarity Analysis\"] = df[\"Polarity\"].apply(getAnalysis )\n",
        "  return df"
      ]
    },
    {
      "cell_type": "code",
      "execution_count": 16,
      "metadata": {
        "id": "TEkjDFOIJV6n"
      },
      "outputs": [],
      "source": [
        "def get_polarity_dataframe(df):\n",
        "  #Section 1\n",
        "  tempdf = df\n",
        "  x = tempdf[\"Tweets\"]\n",
        "\n",
        "  nltk.download('stopwords') #to remove stop words(a,an the)\n",
        "  \n",
        "  stop_words=stopwords.words('english') # to get stem of verb(playing->play)\n",
        "  stemmer=PorterStemmer()\n",
        "\n",
        "  cleaned_text=[]\n",
        "  for i in range(len(x)):\n",
        "   tweet=re.sub('[^a-zA-Z]',' ',x.iloc[i]) #substitute empty string where char is not a-zA-Z\n",
        "   tweet=tweet.lower().split()\n",
        "\n",
        "   tweet=[stemmer.stem(word) for word in tweet if (word not in stop_words)] #stemming and remove stop words\n",
        "   tweet=' '.join(tweet)\n",
        "   cleaned_text.append(tweet)\n",
        "\n",
        "  tempdf[\"Clean Tweets\"] = cleaned_text\n",
        "\n",
        "  #Section2\n",
        "  newdf = sentiment_analysis(tempdf)\n",
        "  return newdf\n"
      ]
    },
    {
      "cell_type": "code",
      "execution_count": 17,
      "metadata": {
        "colab": {
          "base_uri": "https://localhost:8080/"
        },
        "id": "bs1nfh5VMxqx",
        "outputId": "71a7cb09-05f4-4f57-9d49-c77a18d2a4a3"
      },
      "outputs": [
        {
          "name": "stderr",
          "output_type": "stream",
          "text": [
            "[nltk_data] Downloading package stopwords to C:\\Users\\Anup\n",
            "[nltk_data]     Jha\\AppData\\Roaming\\nltk_data...\n",
            "[nltk_data]   Package stopwords is already up-to-date!\n"
          ]
        }
      ],
      "source": [
        "df1 = get_polarity_dataframe(df1)"
      ]
    },
    {
      "cell_type": "code",
      "execution_count": 18,
      "metadata": {
        "id": "025DoF1wTt2y"
      },
      "outputs": [
        {
          "data": {
            "text/html": [
              "\n",
              "    <div class=\"bk-root\">\n",
              "        <a href=\"https://bokeh.org\" target=\"_blank\" class=\"bk-logo bk-logo-small bk-logo-notebook\"></a>\n",
              "        <span id=\"1002\">Loading BokehJS ...</span>\n",
              "    </div>"
            ]
          },
          "metadata": {},
          "output_type": "display_data"
        },
        {
          "data": {
            "application/javascript": "\n(function(root) {\n  function now() {\n    return new Date();\n  }\n\n  const force = true;\n\n  if (typeof root._bokeh_onload_callbacks === \"undefined\" || force === true) {\n    root._bokeh_onload_callbacks = [];\n    root._bokeh_is_loading = undefined;\n  }\n\n  const JS_MIME_TYPE = 'application/javascript';\n  const HTML_MIME_TYPE = 'text/html';\n  const EXEC_MIME_TYPE = 'application/vnd.bokehjs_exec.v0+json';\n  const CLASS_NAME = 'output_bokeh rendered_html';\n\n  /**\n   * Render data to the DOM node\n   */\n  function render(props, node) {\n    const script = document.createElement(\"script\");\n    node.appendChild(script);\n  }\n\n  /**\n   * Handle when an output is cleared or removed\n   */\n  function handleClearOutput(event, handle) {\n    const cell = handle.cell;\n\n    const id = cell.output_area._bokeh_element_id;\n    const server_id = cell.output_area._bokeh_server_id;\n    // Clean up Bokeh references\n    if (id != null && id in Bokeh.index) {\n      Bokeh.index[id].model.document.clear();\n      delete Bokeh.index[id];\n    }\n\n    if (server_id !== undefined) {\n      // Clean up Bokeh references\n      const cmd_clean = \"from bokeh.io.state import curstate; print(curstate().uuid_to_server['\" + server_id + \"'].get_sessions()[0].document.roots[0]._id)\";\n      cell.notebook.kernel.execute(cmd_clean, {\n        iopub: {\n          output: function(msg) {\n            const id = msg.content.text.trim();\n            if (id in Bokeh.index) {\n              Bokeh.index[id].model.document.clear();\n              delete Bokeh.index[id];\n            }\n          }\n        }\n      });\n      // Destroy server and session\n      const cmd_destroy = \"import bokeh.io.notebook as ion; ion.destroy_server('\" + server_id + \"')\";\n      cell.notebook.kernel.execute(cmd_destroy);\n    }\n  }\n\n  /**\n   * Handle when a new output is added\n   */\n  function handleAddOutput(event, handle) {\n    const output_area = handle.output_area;\n    const output = handle.output;\n\n    // limit handleAddOutput to display_data with EXEC_MIME_TYPE content only\n    if ((output.output_type != \"display_data\") || (!Object.prototype.hasOwnProperty.call(output.data, EXEC_MIME_TYPE))) {\n      return\n    }\n\n    const toinsert = output_area.element.find(\".\" + CLASS_NAME.split(' ')[0]);\n\n    if (output.metadata[EXEC_MIME_TYPE][\"id\"] !== undefined) {\n      toinsert[toinsert.length - 1].firstChild.textContent = output.data[JS_MIME_TYPE];\n      // store reference to embed id on output_area\n      output_area._bokeh_element_id = output.metadata[EXEC_MIME_TYPE][\"id\"];\n    }\n    if (output.metadata[EXEC_MIME_TYPE][\"server_id\"] !== undefined) {\n      const bk_div = document.createElement(\"div\");\n      bk_div.innerHTML = output.data[HTML_MIME_TYPE];\n      const script_attrs = bk_div.children[0].attributes;\n      for (let i = 0; i < script_attrs.length; i++) {\n        toinsert[toinsert.length - 1].firstChild.setAttribute(script_attrs[i].name, script_attrs[i].value);\n        toinsert[toinsert.length - 1].firstChild.textContent = bk_div.children[0].textContent\n      }\n      // store reference to server id on output_area\n      output_area._bokeh_server_id = output.metadata[EXEC_MIME_TYPE][\"server_id\"];\n    }\n  }\n\n  function register_renderer(events, OutputArea) {\n\n    function append_mime(data, metadata, element) {\n      // create a DOM node to render to\n      const toinsert = this.create_output_subarea(\n        metadata,\n        CLASS_NAME,\n        EXEC_MIME_TYPE\n      );\n      this.keyboard_manager.register_events(toinsert);\n      // Render to node\n      const props = {data: data, metadata: metadata[EXEC_MIME_TYPE]};\n      render(props, toinsert[toinsert.length - 1]);\n      element.append(toinsert);\n      return toinsert\n    }\n\n    /* Handle when an output is cleared or removed */\n    events.on('clear_output.CodeCell', handleClearOutput);\n    events.on('delete.Cell', handleClearOutput);\n\n    /* Handle when a new output is added */\n    events.on('output_added.OutputArea', handleAddOutput);\n\n    /**\n     * Register the mime type and append_mime function with output_area\n     */\n    OutputArea.prototype.register_mime_type(EXEC_MIME_TYPE, append_mime, {\n      /* Is output safe? */\n      safe: true,\n      /* Index of renderer in `output_area.display_order` */\n      index: 0\n    });\n  }\n\n  // register the mime type if in Jupyter Notebook environment and previously unregistered\n  if (root.Jupyter !== undefined) {\n    const events = require('base/js/events');\n    const OutputArea = require('notebook/js/outputarea').OutputArea;\n\n    if (OutputArea.prototype.mime_types().indexOf(EXEC_MIME_TYPE) == -1) {\n      register_renderer(events, OutputArea);\n    }\n  }\n\n  \n  if (typeof (root._bokeh_timeout) === \"undefined\" || force === true) {\n    root._bokeh_timeout = Date.now() + 5000;\n    root._bokeh_failed_load = false;\n  }\n\n  const NB_LOAD_WARNING = {'data': {'text/html':\n     \"<div style='background-color: #fdd'>\\n\"+\n     \"<p>\\n\"+\n     \"BokehJS does not appear to have successfully loaded. If loading BokehJS from CDN, this \\n\"+\n     \"may be due to a slow or bad network connection. Possible fixes:\\n\"+\n     \"</p>\\n\"+\n     \"<ul>\\n\"+\n     \"<li>re-rerun `output_notebook()` to attempt to load from CDN again, or</li>\\n\"+\n     \"<li>use INLINE resources instead, as so:</li>\\n\"+\n     \"</ul>\\n\"+\n     \"<code>\\n\"+\n     \"from bokeh.resources import INLINE\\n\"+\n     \"output_notebook(resources=INLINE)\\n\"+\n     \"</code>\\n\"+\n     \"</div>\"}};\n\n  function display_loaded() {\n    const el = document.getElementById(\"1002\");\n    if (el != null) {\n      el.textContent = \"BokehJS is loading...\";\n    }\n    if (root.Bokeh !== undefined) {\n      if (el != null) {\n        el.textContent = \"BokehJS \" + root.Bokeh.version + \" successfully loaded.\";\n      }\n    } else if (Date.now() < root._bokeh_timeout) {\n      setTimeout(display_loaded, 100)\n    }\n  }\n\n\n  function run_callbacks() {\n    try {\n      root._bokeh_onload_callbacks.forEach(function(callback) {\n        if (callback != null)\n          callback();\n      });\n    } finally {\n      delete root._bokeh_onload_callbacks\n    }\n    console.debug(\"Bokeh: all callbacks have finished\");\n  }\n\n  function load_libs(css_urls, js_urls, callback) {\n    if (css_urls == null) css_urls = [];\n    if (js_urls == null) js_urls = [];\n\n    root._bokeh_onload_callbacks.push(callback);\n    if (root._bokeh_is_loading > 0) {\n      console.debug(\"Bokeh: BokehJS is being loaded, scheduling callback at\", now());\n      return null;\n    }\n    if (js_urls == null || js_urls.length === 0) {\n      run_callbacks();\n      return null;\n    }\n    console.debug(\"Bokeh: BokehJS not loaded, scheduling load and callback at\", now());\n    root._bokeh_is_loading = css_urls.length + js_urls.length;\n\n    function on_load() {\n      root._bokeh_is_loading--;\n      if (root._bokeh_is_loading === 0) {\n        console.debug(\"Bokeh: all BokehJS libraries/stylesheets loaded\");\n        run_callbacks()\n      }\n    }\n\n    function on_error(url) {\n      console.error(\"failed to load \" + url);\n    }\n\n    for (let i = 0; i < css_urls.length; i++) {\n      const url = css_urls[i];\n      const element = document.createElement(\"link\");\n      element.onload = on_load;\n      element.onerror = on_error.bind(null, url);\n      element.rel = \"stylesheet\";\n      element.type = \"text/css\";\n      element.href = url;\n      console.debug(\"Bokeh: injecting link tag for BokehJS stylesheet: \", url);\n      document.body.appendChild(element);\n    }\n\n    for (let i = 0; i < js_urls.length; i++) {\n      const url = js_urls[i];\n      const element = document.createElement('script');\n      element.onload = on_load;\n      element.onerror = on_error.bind(null, url);\n      element.async = false;\n      element.src = url;\n      console.debug(\"Bokeh: injecting script tag for BokehJS library: \", url);\n      document.head.appendChild(element);\n    }\n  };\n\n  function inject_raw_css(css) {\n    const element = document.createElement(\"style\");\n    element.appendChild(document.createTextNode(css));\n    document.body.appendChild(element);\n  }\n\n  \n  const js_urls = [\"https://cdn.bokeh.org/bokeh/release/bokeh-2.4.0.min.js\", \"https://cdn.bokeh.org/bokeh/release/bokeh-gl-2.4.0.min.js\", \"https://cdn.bokeh.org/bokeh/release/bokeh-widgets-2.4.0.min.js\", \"https://cdn.bokeh.org/bokeh/release/bokeh-tables-2.4.0.min.js\", \"https://cdn.bokeh.org/bokeh/release/bokeh-mathjax-2.4.0.min.js\"];\n  const css_urls = [];\n  \n\n  const inline_js = [\n    function(Bokeh) {\n      Bokeh.set_log_level(\"info\");\n    },\n    function(Bokeh) {\n    \n    \n    }\n  ];\n\n  function run_inline_js() {\n    \n    if (root.Bokeh !== undefined || force === true) {\n      \n    for (let i = 0; i < inline_js.length; i++) {\n      inline_js[i].call(root, root.Bokeh);\n    }\n    if (force === true) {\n        display_loaded();\n      }} else if (Date.now() < root._bokeh_timeout) {\n      setTimeout(run_inline_js, 100);\n    } else if (!root._bokeh_failed_load) {\n      console.log(\"Bokeh: BokehJS failed to load within specified timeout.\");\n      root._bokeh_failed_load = true;\n    } else if (force !== true) {\n      const cell = $(document.getElementById(\"1002\")).parents('.cell').data().cell;\n      cell.output_area.append_execute_result(NB_LOAD_WARNING)\n    }\n\n  }\n\n  if (root._bokeh_is_loading === 0) {\n    console.debug(\"Bokeh: BokehJS loaded, going straight to plotting\");\n    run_inline_js();\n  } else {\n    load_libs(css_urls, js_urls, function() {\n      console.debug(\"Bokeh: BokehJS plotting callback run at\", now());\n      run_inline_js();\n    });\n  }\n}(window));",
            "application/vnd.bokehjs_load.v0+json": ""
          },
          "metadata": {},
          "output_type": "display_data"
        }
      ],
      "source": [
        "output_notebook()"
      ]
    },
    {
      "cell_type": "code",
      "execution_count": 19,
      "metadata": {
        "id": "-34hKIrSQVpo"
      },
      "outputs": [],
      "source": [
        "def get_polarity_plot(topic):\n",
        "  #get dataframe from topic\n",
        "  df1 = get_tweetsdf(topic=topic)\n",
        "\n",
        "  #get dataframe with polarity columns\n",
        "  newdf = get_polarity_dataframe(df1)\n",
        "\n",
        "  posNumber = newdf[newdf[\"Polarity Analysis\"]==\"positive\"].shape[0]\n",
        "  negNumber = newdf[newdf[\"Polarity Analysis\"]==\"negative\"].shape[0]\n",
        "  neuNumber = newdf[newdf[\"Polarity Analysis\"]==\"neutral\"].shape[0]\n",
        "\n",
        "  sentiments = [\"Positive\",\"Negative\",\"Neutral\"]\n",
        "  counts = [posNumber, negNumber, neuNumber]\n",
        "  total = posNumber + negNumber + neuNumber\n",
        "  print(counts)\n",
        "   \n",
        "  colorList = [\"green\", \"red\", \"blue\"]\n",
        "  source = ColumnDataSource(data=dict(sentiments = sentiments, counts=counts, color=colorList))\n",
        "\n",
        "  p = figure( x_range = sentiments, title=f\"Sentiments Plot for latest {total} tweets\",\n",
        "           toolbar_location=None, tools=\"\",x_axis_label = \"Sentiments\", y_axis_label = \"Tweets Count\") #x_range=sentiments, y_range=(0,9),\n",
        "\n",
        "  p.vbar(x='sentiments', top='counts', width=0.8, color='color',  source=source)#legend_field=\"sentiments\",\n",
        "\n",
        "  p.xgrid.grid_line_color = None\n",
        "  # p.legend.orientation = \"horizontal\"\n",
        "  p.title.align = \"center\"\n",
        "  # p.legend.location = \"top_center\"\n",
        "\n",
        "  show(p)\n",
        "\n",
        "  return p"
      ]
    },
    {
      "cell_type": "code",
      "execution_count": 20,
      "metadata": {
        "colab": {
          "base_uri": "https://localhost:8080/",
          "height": 690
        },
        "id": "3hbj7yhCUBWY",
        "outputId": "6a8c16d6-702a-48cf-e3f2-ed47f643a2da"
      },
      "outputs": [
        {
          "name": "stdout",
          "output_type": "stream",
          "text": [
            "[29, 29, 142]\n"
          ]
        },
        {
          "name": "stderr",
          "output_type": "stream",
          "text": [
            "[nltk_data] Downloading package stopwords to C:\\Users\\Anup\n",
            "[nltk_data]     Jha\\AppData\\Roaming\\nltk_data...\n",
            "[nltk_data]   Package stopwords is already up-to-date!\n"
          ]
        },
        {
          "data": {
            "text/html": [
              "\n",
              "\n",
              "\n",
              "\n",
              "\n",
              "\n",
              "  <div class=\"bk-root\" id=\"e3196d1a-3089-412a-bdbd-42186620723d\" data-root-id=\"1004\"></div>\n"
            ]
          },
          "metadata": {},
          "output_type": "display_data"
        },
        {
          "data": {
            "application/javascript": "(function(root) {\n  function embed_document(root) {\n    \n  const docs_json = {\"584cc919-c5ee-42a5-b295-875b4b9898e0\":{\"defs\":[],\"roots\":{\"references\":[{\"attributes\":{\"below\":[{\"id\":\"1015\"}],\"center\":[{\"id\":\"1017\"},{\"id\":\"1021\"}],\"left\":[{\"id\":\"1018\"}],\"renderers\":[{\"id\":\"1027\"}],\"title\":{\"id\":\"1005\"},\"toolbar\":{\"id\":\"1022\"},\"toolbar_location\":null,\"x_range\":{\"id\":\"1007\"},\"x_scale\":{\"id\":\"1011\"},\"y_range\":{\"id\":\"1009\"},\"y_scale\":{\"id\":\"1013\"}},\"id\":\"1004\",\"subtype\":\"Figure\",\"type\":\"Plot\"},{\"attributes\":{\"fill_alpha\":{\"value\":0.2},\"fill_color\":{\"field\":\"color\"},\"hatch_alpha\":{\"value\":0.2},\"hatch_color\":{\"field\":\"color\"},\"line_alpha\":{\"value\":0.2},\"line_color\":{\"field\":\"color\"},\"top\":{\"field\":\"counts\"},\"width\":{\"value\":0.8},\"x\":{\"field\":\"sentiments\"}},\"id\":\"1026\",\"type\":\"VBar\"},{\"attributes\":{},\"id\":\"1011\",\"type\":\"CategoricalScale\"},{\"attributes\":{\"align\":\"center\",\"coordinates\":null,\"group\":null,\"text\":\"Sentiments Plot for latest 200 tweets\"},\"id\":\"1005\",\"type\":\"Title\"},{\"attributes\":{\"fill_alpha\":{\"value\":0.1},\"fill_color\":{\"field\":\"color\"},\"hatch_alpha\":{\"value\":0.1},\"hatch_color\":{\"field\":\"color\"},\"line_alpha\":{\"value\":0.1},\"line_color\":{\"field\":\"color\"},\"top\":{\"field\":\"counts\"},\"width\":{\"value\":0.8},\"x\":{\"field\":\"sentiments\"}},\"id\":\"1025\",\"type\":\"VBar\"},{\"attributes\":{},\"id\":\"1019\",\"type\":\"BasicTicker\"},{\"attributes\":{\"data\":{\"color\":[\"green\",\"red\",\"blue\"],\"counts\":[29,29,142],\"sentiments\":[\"Positive\",\"Negative\",\"Neutral\"]},\"selected\":{\"id\":\"1037\"},\"selection_policy\":{\"id\":\"1036\"}},\"id\":\"1003\",\"type\":\"ColumnDataSource\"},{\"attributes\":{\"coordinates\":null,\"data_source\":{\"id\":\"1003\"},\"glyph\":{\"id\":\"1024\"},\"group\":null,\"hover_glyph\":null,\"muted_glyph\":{\"id\":\"1026\"},\"nonselection_glyph\":{\"id\":\"1025\"},\"view\":{\"id\":\"1028\"}},\"id\":\"1027\",\"type\":\"GlyphRenderer\"},{\"attributes\":{},\"id\":\"1016\",\"type\":\"CategoricalTicker\"},{\"attributes\":{\"fill_color\":{\"field\":\"color\"},\"hatch_color\":{\"field\":\"color\"},\"line_color\":{\"field\":\"color\"},\"top\":{\"field\":\"counts\"},\"width\":{\"value\":0.8},\"x\":{\"field\":\"sentiments\"}},\"id\":\"1024\",\"type\":\"VBar\"},{\"attributes\":{\"axis\":{\"id\":\"1018\"},\"coordinates\":null,\"dimension\":1,\"group\":null,\"ticker\":null},\"id\":\"1021\",\"type\":\"Grid\"},{\"attributes\":{},\"id\":\"1032\",\"type\":\"AllLabels\"},{\"attributes\":{},\"id\":\"1036\",\"type\":\"UnionRenderers\"},{\"attributes\":{\"factors\":[\"Positive\",\"Negative\",\"Neutral\"]},\"id\":\"1007\",\"type\":\"FactorRange\"},{\"attributes\":{},\"id\":\"1013\",\"type\":\"LinearScale\"},{\"attributes\":{},\"id\":\"1037\",\"type\":\"Selection\"},{\"attributes\":{},\"id\":\"1034\",\"type\":\"CategoricalTickFormatter\"},{\"attributes\":{},\"id\":\"1035\",\"type\":\"AllLabels\"},{\"attributes\":{},\"id\":\"1031\",\"type\":\"BasicTickFormatter\"},{\"attributes\":{},\"id\":\"1009\",\"type\":\"DataRange1d\"},{\"attributes\":{\"axis_label\":\"Sentiments\",\"coordinates\":null,\"formatter\":{\"id\":\"1034\"},\"group\":null,\"major_label_policy\":{\"id\":\"1035\"},\"ticker\":{\"id\":\"1016\"}},\"id\":\"1015\",\"type\":\"CategoricalAxis\"},{\"attributes\":{\"axis_label\":\"Tweets Count\",\"coordinates\":null,\"formatter\":{\"id\":\"1031\"},\"group\":null,\"major_label_policy\":{\"id\":\"1032\"},\"ticker\":{\"id\":\"1019\"}},\"id\":\"1018\",\"type\":\"LinearAxis\"},{\"attributes\":{\"axis\":{\"id\":\"1015\"},\"coordinates\":null,\"grid_line_color\":null,\"group\":null,\"ticker\":null},\"id\":\"1017\",\"type\":\"Grid\"},{\"attributes\":{},\"id\":\"1022\",\"type\":\"Toolbar\"},{\"attributes\":{\"source\":{\"id\":\"1003\"}},\"id\":\"1028\",\"type\":\"CDSView\"}],\"root_ids\":[\"1004\"]},\"title\":\"Bokeh Application\",\"version\":\"2.4.0\"}};\n  const render_items = [{\"docid\":\"584cc919-c5ee-42a5-b295-875b4b9898e0\",\"root_ids\":[\"1004\"],\"roots\":{\"1004\":\"e3196d1a-3089-412a-bdbd-42186620723d\"}}];\n  root.Bokeh.embed.embed_items_notebook(docs_json, render_items);\n\n  }\n  if (root.Bokeh !== undefined) {\n    embed_document(root);\n  } else {\n    let attempts = 0;\n    const timer = setInterval(function(root) {\n      if (root.Bokeh !== undefined) {\n        clearInterval(timer);\n        embed_document(root);\n      } else {\n        attempts++;\n        if (attempts > 100) {\n          clearInterval(timer);\n          console.log(\"Bokeh: ERROR: Unable to run BokehJS code because BokehJS library is missing\");\n        }\n      }\n    }, 10, root)\n  }\n})(window);",
            "application/vnd.bokehjs_exec.v0+json": ""
          },
          "metadata": {
            "application/vnd.bokehjs_exec.v0+json": {
              "id": "1004"
            }
          },
          "output_type": "display_data"
        }
      ],
      "source": [
        "p1 = get_polarity_plot(\"virat kohli\")"
      ]
    },
    {
      "cell_type": "code",
      "execution_count": 21,
      "metadata": {},
      "outputs": [],
      "source": [
        "output_file(\"temp2.html\")"
      ]
    },
    {
      "cell_type": "code",
      "execution_count": 22,
      "metadata": {},
      "outputs": [
        {
          "data": {
            "text/html": [
              "\n",
              "\n",
              "\n",
              "\n",
              "\n",
              "\n",
              "  <div class=\"bk-root\" id=\"b2d0d689-1926-4412-a71f-3db982f7fa2f\" data-root-id=\"1004\"></div>\n"
            ]
          },
          "metadata": {},
          "output_type": "display_data"
        },
        {
          "data": {
            "application/javascript": "(function(root) {\n  function embed_document(root) {\n    \n  const docs_json = {\"fa780a90-051d-4a30-9c65-34290e6679aa\":{\"defs\":[],\"roots\":{\"references\":[{\"attributes\":{\"below\":[{\"id\":\"1015\"}],\"center\":[{\"id\":\"1017\"},{\"id\":\"1021\"}],\"left\":[{\"id\":\"1018\"}],\"renderers\":[{\"id\":\"1027\"}],\"title\":{\"id\":\"1005\"},\"toolbar\":{\"id\":\"1022\"},\"toolbar_location\":null,\"x_range\":{\"id\":\"1007\"},\"x_scale\":{\"id\":\"1011\"},\"y_range\":{\"id\":\"1009\"},\"y_scale\":{\"id\":\"1013\"}},\"id\":\"1004\",\"subtype\":\"Figure\",\"type\":\"Plot\"},{\"attributes\":{\"fill_alpha\":{\"value\":0.2},\"fill_color\":{\"field\":\"color\"},\"hatch_alpha\":{\"value\":0.2},\"hatch_color\":{\"field\":\"color\"},\"line_alpha\":{\"value\":0.2},\"line_color\":{\"field\":\"color\"},\"top\":{\"field\":\"counts\"},\"width\":{\"value\":0.8},\"x\":{\"field\":\"sentiments\"}},\"id\":\"1026\",\"type\":\"VBar\"},{\"attributes\":{},\"id\":\"1011\",\"type\":\"CategoricalScale\"},{\"attributes\":{\"align\":\"center\",\"coordinates\":null,\"group\":null,\"text\":\"Sentiments Plot for latest 200 tweets\"},\"id\":\"1005\",\"type\":\"Title\"},{\"attributes\":{\"fill_alpha\":{\"value\":0.1},\"fill_color\":{\"field\":\"color\"},\"hatch_alpha\":{\"value\":0.1},\"hatch_color\":{\"field\":\"color\"},\"line_alpha\":{\"value\":0.1},\"line_color\":{\"field\":\"color\"},\"top\":{\"field\":\"counts\"},\"width\":{\"value\":0.8},\"x\":{\"field\":\"sentiments\"}},\"id\":\"1025\",\"type\":\"VBar\"},{\"attributes\":{},\"id\":\"1019\",\"type\":\"BasicTicker\"},{\"attributes\":{\"data\":{\"color\":[\"green\",\"red\",\"blue\"],\"counts\":[29,29,142],\"sentiments\":[\"Positive\",\"Negative\",\"Neutral\"]},\"selected\":{\"id\":\"1037\"},\"selection_policy\":{\"id\":\"1036\"}},\"id\":\"1003\",\"type\":\"ColumnDataSource\"},{\"attributes\":{\"coordinates\":null,\"data_source\":{\"id\":\"1003\"},\"glyph\":{\"id\":\"1024\"},\"group\":null,\"hover_glyph\":null,\"muted_glyph\":{\"id\":\"1026\"},\"nonselection_glyph\":{\"id\":\"1025\"},\"view\":{\"id\":\"1028\"}},\"id\":\"1027\",\"type\":\"GlyphRenderer\"},{\"attributes\":{},\"id\":\"1016\",\"type\":\"CategoricalTicker\"},{\"attributes\":{\"fill_color\":{\"field\":\"color\"},\"hatch_color\":{\"field\":\"color\"},\"line_color\":{\"field\":\"color\"},\"top\":{\"field\":\"counts\"},\"width\":{\"value\":0.8},\"x\":{\"field\":\"sentiments\"}},\"id\":\"1024\",\"type\":\"VBar\"},{\"attributes\":{\"axis\":{\"id\":\"1018\"},\"coordinates\":null,\"dimension\":1,\"group\":null,\"ticker\":null},\"id\":\"1021\",\"type\":\"Grid\"},{\"attributes\":{},\"id\":\"1032\",\"type\":\"AllLabels\"},{\"attributes\":{},\"id\":\"1036\",\"type\":\"UnionRenderers\"},{\"attributes\":{\"factors\":[\"Positive\",\"Negative\",\"Neutral\"]},\"id\":\"1007\",\"type\":\"FactorRange\"},{\"attributes\":{},\"id\":\"1013\",\"type\":\"LinearScale\"},{\"attributes\":{},\"id\":\"1037\",\"type\":\"Selection\"},{\"attributes\":{},\"id\":\"1034\",\"type\":\"CategoricalTickFormatter\"},{\"attributes\":{},\"id\":\"1035\",\"type\":\"AllLabels\"},{\"attributes\":{},\"id\":\"1031\",\"type\":\"BasicTickFormatter\"},{\"attributes\":{},\"id\":\"1009\",\"type\":\"DataRange1d\"},{\"attributes\":{\"axis_label\":\"Sentiments\",\"coordinates\":null,\"formatter\":{\"id\":\"1034\"},\"group\":null,\"major_label_policy\":{\"id\":\"1035\"},\"ticker\":{\"id\":\"1016\"}},\"id\":\"1015\",\"type\":\"CategoricalAxis\"},{\"attributes\":{\"axis_label\":\"Tweets Count\",\"coordinates\":null,\"formatter\":{\"id\":\"1031\"},\"group\":null,\"major_label_policy\":{\"id\":\"1032\"},\"ticker\":{\"id\":\"1019\"}},\"id\":\"1018\",\"type\":\"LinearAxis\"},{\"attributes\":{\"axis\":{\"id\":\"1015\"},\"coordinates\":null,\"grid_line_color\":null,\"group\":null,\"ticker\":null},\"id\":\"1017\",\"type\":\"Grid\"},{\"attributes\":{},\"id\":\"1022\",\"type\":\"Toolbar\"},{\"attributes\":{\"source\":{\"id\":\"1003\"}},\"id\":\"1028\",\"type\":\"CDSView\"}],\"root_ids\":[\"1004\"]},\"title\":\"Bokeh Application\",\"version\":\"2.4.0\"}};\n  const render_items = [{\"docid\":\"fa780a90-051d-4a30-9c65-34290e6679aa\",\"root_ids\":[\"1004\"],\"roots\":{\"1004\":\"b2d0d689-1926-4412-a71f-3db982f7fa2f\"}}];\n  root.Bokeh.embed.embed_items_notebook(docs_json, render_items);\n\n  }\n  if (root.Bokeh !== undefined) {\n    embed_document(root);\n  } else {\n    let attempts = 0;\n    const timer = setInterval(function(root) {\n      if (root.Bokeh !== undefined) {\n        clearInterval(timer);\n        embed_document(root);\n      } else {\n        attempts++;\n        if (attempts > 100) {\n          clearInterval(timer);\n          console.log(\"Bokeh: ERROR: Unable to run BokehJS code because BokehJS library is missing\");\n        }\n      }\n    }, 10, root)\n  }\n})(window);",
            "application/vnd.bokehjs_exec.v0+json": ""
          },
          "metadata": {
            "application/vnd.bokehjs_exec.v0+json": {
              "id": "1004"
            }
          },
          "output_type": "display_data"
        }
      ],
      "source": [
        "show(p1)"
      ]
    },
    {
      "cell_type": "code",
      "execution_count": 23,
      "metadata": {},
      "outputs": [
        {
          "data": {
            "text/html": [
              "<div style=\"display: table;\"><div style=\"display: table-row;\"><div style=\"display: table-cell;\"><b title=\"bokeh.models.renderers.GlyphRenderer\">GlyphRenderer</b>(</div><div style=\"display: table-cell;\">id&nbsp;=&nbsp;'1274', <span id=\"1289\" style=\"cursor: pointer;\">&hellip;)</span></div></div><div class=\"1288\" style=\"display: none;\"><div style=\"display: table-cell;\"></div><div style=\"display: table-cell;\">coordinates&nbsp;=&nbsp;None,</div></div><div class=\"1288\" style=\"display: none;\"><div style=\"display: table-cell;\"></div><div style=\"display: table-cell;\">data_source&nbsp;=&nbsp;ColumnDataSource(id='1270', ...),</div></div><div class=\"1288\" style=\"display: none;\"><div style=\"display: table-cell;\"></div><div style=\"display: table-cell;\">glyph&nbsp;=&nbsp;Line(id='1271', ...),</div></div><div class=\"1288\" style=\"display: none;\"><div style=\"display: table-cell;\"></div><div style=\"display: table-cell;\">group&nbsp;=&nbsp;None,</div></div><div class=\"1288\" style=\"display: none;\"><div style=\"display: table-cell;\"></div><div style=\"display: table-cell;\">hover_glyph&nbsp;=&nbsp;None,</div></div><div class=\"1288\" style=\"display: none;\"><div style=\"display: table-cell;\"></div><div style=\"display: table-cell;\">js_event_callbacks&nbsp;=&nbsp;{},</div></div><div class=\"1288\" style=\"display: none;\"><div style=\"display: table-cell;\"></div><div style=\"display: table-cell;\">js_property_callbacks&nbsp;=&nbsp;{},</div></div><div class=\"1288\" style=\"display: none;\"><div style=\"display: table-cell;\"></div><div style=\"display: table-cell;\">level&nbsp;=&nbsp;'glyph',</div></div><div class=\"1288\" style=\"display: none;\"><div style=\"display: table-cell;\"></div><div style=\"display: table-cell;\">muted&nbsp;=&nbsp;False,</div></div><div class=\"1288\" style=\"display: none;\"><div style=\"display: table-cell;\"></div><div style=\"display: table-cell;\">muted_glyph&nbsp;=&nbsp;Line(id='1273', ...),</div></div><div class=\"1288\" style=\"display: none;\"><div style=\"display: table-cell;\"></div><div style=\"display: table-cell;\">name&nbsp;=&nbsp;None,</div></div><div class=\"1288\" style=\"display: none;\"><div style=\"display: table-cell;\"></div><div style=\"display: table-cell;\">nonselection_glyph&nbsp;=&nbsp;Line(id='1272', ...),</div></div><div class=\"1288\" style=\"display: none;\"><div style=\"display: table-cell;\"></div><div style=\"display: table-cell;\">selection_glyph&nbsp;=&nbsp;'auto',</div></div><div class=\"1288\" style=\"display: none;\"><div style=\"display: table-cell;\"></div><div style=\"display: table-cell;\">subscribed_events&nbsp;=&nbsp;[],</div></div><div class=\"1288\" style=\"display: none;\"><div style=\"display: table-cell;\"></div><div style=\"display: table-cell;\">syncable&nbsp;=&nbsp;True,</div></div><div class=\"1288\" style=\"display: none;\"><div style=\"display: table-cell;\"></div><div style=\"display: table-cell;\">tags&nbsp;=&nbsp;[],</div></div><div class=\"1288\" style=\"display: none;\"><div style=\"display: table-cell;\"></div><div style=\"display: table-cell;\">view&nbsp;=&nbsp;CDSView(id='1275', ...),</div></div><div class=\"1288\" style=\"display: none;\"><div style=\"display: table-cell;\"></div><div style=\"display: table-cell;\">visible&nbsp;=&nbsp;True,</div></div><div class=\"1288\" style=\"display: none;\"><div style=\"display: table-cell;\"></div><div style=\"display: table-cell;\">x_range_name&nbsp;=&nbsp;'default',</div></div><div class=\"1288\" style=\"display: none;\"><div style=\"display: table-cell;\"></div><div style=\"display: table-cell;\">y_range_name&nbsp;=&nbsp;'default')</div></div></div>\n",
              "<script>\n",
              "(function() {\n",
              "  let expanded = false;\n",
              "  const ellipsis = document.getElementById(\"1289\");\n",
              "  ellipsis.addEventListener(\"click\", function() {\n",
              "    const rows = document.getElementsByClassName(\"1288\");\n",
              "    for (let i = 0; i < rows.length; i++) {\n",
              "      const el = rows[i];\n",
              "      el.style.display = expanded ? \"none\" : \"table-row\";\n",
              "    }\n",
              "    ellipsis.innerHTML = expanded ? \"&hellip;)\" : \"&lsaquo;&lsaquo;&lsaquo;\";\n",
              "    expanded = !expanded;\n",
              "  });\n",
              "})();\n",
              "</script>\n"
            ],
            "text/plain": [
              "GlyphRenderer(id='1274', ...)"
            ]
          },
          "execution_count": 23,
          "metadata": {},
          "output_type": "execute_result"
        }
      ],
      "source": [
        "#a new plot with labels\n",
        "p = figure(title=\"first line plot\",\n",
        "           x_axis_label = \"x axis\",\n",
        "           y_axis_label=\"y axis\",\n",
        "           height =500)\n",
        "x1=[10,9,6,85,6,9]\n",
        "y1=[1,5,2,5,6,10]\n",
        "\n",
        "p.line(x1,y1,legend_label = \"Random2\",\n",
        "       line_width =3,\n",
        "       line_color='blue')"
      ]
    },
    {
      "cell_type": "code",
      "execution_count": 24,
      "metadata": {},
      "outputs": [
        {
          "data": {
            "text/html": [
              "\n",
              "    <div class=\"bk-root\">\n",
              "        <a href=\"https://bokeh.org\" target=\"_blank\" class=\"bk-logo bk-logo-small bk-logo-notebook\"></a>\n",
              "        <span id=\"1290\">Loading BokehJS ...</span>\n",
              "    </div>"
            ]
          },
          "metadata": {},
          "output_type": "display_data"
        },
        {
          "data": {
            "application/javascript": "\n(function(root) {\n  function now() {\n    return new Date();\n  }\n\n  const force = true;\n\n  if (typeof root._bokeh_onload_callbacks === \"undefined\" || force === true) {\n    root._bokeh_onload_callbacks = [];\n    root._bokeh_is_loading = undefined;\n  }\n\n  const JS_MIME_TYPE = 'application/javascript';\n  const HTML_MIME_TYPE = 'text/html';\n  const EXEC_MIME_TYPE = 'application/vnd.bokehjs_exec.v0+json';\n  const CLASS_NAME = 'output_bokeh rendered_html';\n\n  /**\n   * Render data to the DOM node\n   */\n  function render(props, node) {\n    const script = document.createElement(\"script\");\n    node.appendChild(script);\n  }\n\n  /**\n   * Handle when an output is cleared or removed\n   */\n  function handleClearOutput(event, handle) {\n    const cell = handle.cell;\n\n    const id = cell.output_area._bokeh_element_id;\n    const server_id = cell.output_area._bokeh_server_id;\n    // Clean up Bokeh references\n    if (id != null && id in Bokeh.index) {\n      Bokeh.index[id].model.document.clear();\n      delete Bokeh.index[id];\n    }\n\n    if (server_id !== undefined) {\n      // Clean up Bokeh references\n      const cmd_clean = \"from bokeh.io.state import curstate; print(curstate().uuid_to_server['\" + server_id + \"'].get_sessions()[0].document.roots[0]._id)\";\n      cell.notebook.kernel.execute(cmd_clean, {\n        iopub: {\n          output: function(msg) {\n            const id = msg.content.text.trim();\n            if (id in Bokeh.index) {\n              Bokeh.index[id].model.document.clear();\n              delete Bokeh.index[id];\n            }\n          }\n        }\n      });\n      // Destroy server and session\n      const cmd_destroy = \"import bokeh.io.notebook as ion; ion.destroy_server('\" + server_id + \"')\";\n      cell.notebook.kernel.execute(cmd_destroy);\n    }\n  }\n\n  /**\n   * Handle when a new output is added\n   */\n  function handleAddOutput(event, handle) {\n    const output_area = handle.output_area;\n    const output = handle.output;\n\n    // limit handleAddOutput to display_data with EXEC_MIME_TYPE content only\n    if ((output.output_type != \"display_data\") || (!Object.prototype.hasOwnProperty.call(output.data, EXEC_MIME_TYPE))) {\n      return\n    }\n\n    const toinsert = output_area.element.find(\".\" + CLASS_NAME.split(' ')[0]);\n\n    if (output.metadata[EXEC_MIME_TYPE][\"id\"] !== undefined) {\n      toinsert[toinsert.length - 1].firstChild.textContent = output.data[JS_MIME_TYPE];\n      // store reference to embed id on output_area\n      output_area._bokeh_element_id = output.metadata[EXEC_MIME_TYPE][\"id\"];\n    }\n    if (output.metadata[EXEC_MIME_TYPE][\"server_id\"] !== undefined) {\n      const bk_div = document.createElement(\"div\");\n      bk_div.innerHTML = output.data[HTML_MIME_TYPE];\n      const script_attrs = bk_div.children[0].attributes;\n      for (let i = 0; i < script_attrs.length; i++) {\n        toinsert[toinsert.length - 1].firstChild.setAttribute(script_attrs[i].name, script_attrs[i].value);\n        toinsert[toinsert.length - 1].firstChild.textContent = bk_div.children[0].textContent\n      }\n      // store reference to server id on output_area\n      output_area._bokeh_server_id = output.metadata[EXEC_MIME_TYPE][\"server_id\"];\n    }\n  }\n\n  function register_renderer(events, OutputArea) {\n\n    function append_mime(data, metadata, element) {\n      // create a DOM node to render to\n      const toinsert = this.create_output_subarea(\n        metadata,\n        CLASS_NAME,\n        EXEC_MIME_TYPE\n      );\n      this.keyboard_manager.register_events(toinsert);\n      // Render to node\n      const props = {data: data, metadata: metadata[EXEC_MIME_TYPE]};\n      render(props, toinsert[toinsert.length - 1]);\n      element.append(toinsert);\n      return toinsert\n    }\n\n    /* Handle when an output is cleared or removed */\n    events.on('clear_output.CodeCell', handleClearOutput);\n    events.on('delete.Cell', handleClearOutput);\n\n    /* Handle when a new output is added */\n    events.on('output_added.OutputArea', handleAddOutput);\n\n    /**\n     * Register the mime type and append_mime function with output_area\n     */\n    OutputArea.prototype.register_mime_type(EXEC_MIME_TYPE, append_mime, {\n      /* Is output safe? */\n      safe: true,\n      /* Index of renderer in `output_area.display_order` */\n      index: 0\n    });\n  }\n\n  // register the mime type if in Jupyter Notebook environment and previously unregistered\n  if (root.Jupyter !== undefined) {\n    const events = require('base/js/events');\n    const OutputArea = require('notebook/js/outputarea').OutputArea;\n\n    if (OutputArea.prototype.mime_types().indexOf(EXEC_MIME_TYPE) == -1) {\n      register_renderer(events, OutputArea);\n    }\n  }\n\n  \n  if (typeof (root._bokeh_timeout) === \"undefined\" || force === true) {\n    root._bokeh_timeout = Date.now() + 5000;\n    root._bokeh_failed_load = false;\n  }\n\n  const NB_LOAD_WARNING = {'data': {'text/html':\n     \"<div style='background-color: #fdd'>\\n\"+\n     \"<p>\\n\"+\n     \"BokehJS does not appear to have successfully loaded. If loading BokehJS from CDN, this \\n\"+\n     \"may be due to a slow or bad network connection. Possible fixes:\\n\"+\n     \"</p>\\n\"+\n     \"<ul>\\n\"+\n     \"<li>re-rerun `output_notebook()` to attempt to load from CDN again, or</li>\\n\"+\n     \"<li>use INLINE resources instead, as so:</li>\\n\"+\n     \"</ul>\\n\"+\n     \"<code>\\n\"+\n     \"from bokeh.resources import INLINE\\n\"+\n     \"output_notebook(resources=INLINE)\\n\"+\n     \"</code>\\n\"+\n     \"</div>\"}};\n\n  function display_loaded() {\n    const el = document.getElementById(\"1290\");\n    if (el != null) {\n      el.textContent = \"BokehJS is loading...\";\n    }\n    if (root.Bokeh !== undefined) {\n      if (el != null) {\n        el.textContent = \"BokehJS \" + root.Bokeh.version + \" successfully loaded.\";\n      }\n    } else if (Date.now() < root._bokeh_timeout) {\n      setTimeout(display_loaded, 100)\n    }\n  }\n\n\n  function run_callbacks() {\n    try {\n      root._bokeh_onload_callbacks.forEach(function(callback) {\n        if (callback != null)\n          callback();\n      });\n    } finally {\n      delete root._bokeh_onload_callbacks\n    }\n    console.debug(\"Bokeh: all callbacks have finished\");\n  }\n\n  function load_libs(css_urls, js_urls, callback) {\n    if (css_urls == null) css_urls = [];\n    if (js_urls == null) js_urls = [];\n\n    root._bokeh_onload_callbacks.push(callback);\n    if (root._bokeh_is_loading > 0) {\n      console.debug(\"Bokeh: BokehJS is being loaded, scheduling callback at\", now());\n      return null;\n    }\n    if (js_urls == null || js_urls.length === 0) {\n      run_callbacks();\n      return null;\n    }\n    console.debug(\"Bokeh: BokehJS not loaded, scheduling load and callback at\", now());\n    root._bokeh_is_loading = css_urls.length + js_urls.length;\n\n    function on_load() {\n      root._bokeh_is_loading--;\n      if (root._bokeh_is_loading === 0) {\n        console.debug(\"Bokeh: all BokehJS libraries/stylesheets loaded\");\n        run_callbacks()\n      }\n    }\n\n    function on_error(url) {\n      console.error(\"failed to load \" + url);\n    }\n\n    for (let i = 0; i < css_urls.length; i++) {\n      const url = css_urls[i];\n      const element = document.createElement(\"link\");\n      element.onload = on_load;\n      element.onerror = on_error.bind(null, url);\n      element.rel = \"stylesheet\";\n      element.type = \"text/css\";\n      element.href = url;\n      console.debug(\"Bokeh: injecting link tag for BokehJS stylesheet: \", url);\n      document.body.appendChild(element);\n    }\n\n    for (let i = 0; i < js_urls.length; i++) {\n      const url = js_urls[i];\n      const element = document.createElement('script');\n      element.onload = on_load;\n      element.onerror = on_error.bind(null, url);\n      element.async = false;\n      element.src = url;\n      console.debug(\"Bokeh: injecting script tag for BokehJS library: \", url);\n      document.head.appendChild(element);\n    }\n  };\n\n  function inject_raw_css(css) {\n    const element = document.createElement(\"style\");\n    element.appendChild(document.createTextNode(css));\n    document.body.appendChild(element);\n  }\n\n  \n  const js_urls = [\"https://cdn.bokeh.org/bokeh/release/bokeh-2.4.0.min.js\", \"https://cdn.bokeh.org/bokeh/release/bokeh-gl-2.4.0.min.js\", \"https://cdn.bokeh.org/bokeh/release/bokeh-widgets-2.4.0.min.js\", \"https://cdn.bokeh.org/bokeh/release/bokeh-tables-2.4.0.min.js\", \"https://cdn.bokeh.org/bokeh/release/bokeh-mathjax-2.4.0.min.js\"];\n  const css_urls = [];\n  \n\n  const inline_js = [\n    function(Bokeh) {\n      Bokeh.set_log_level(\"info\");\n    },\n    function(Bokeh) {\n    \n    \n    }\n  ];\n\n  function run_inline_js() {\n    \n    if (root.Bokeh !== undefined || force === true) {\n      \n    for (let i = 0; i < inline_js.length; i++) {\n      inline_js[i].call(root, root.Bokeh);\n    }\n    if (force === true) {\n        display_loaded();\n      }} else if (Date.now() < root._bokeh_timeout) {\n      setTimeout(run_inline_js, 100);\n    } else if (!root._bokeh_failed_load) {\n      console.log(\"Bokeh: BokehJS failed to load within specified timeout.\");\n      root._bokeh_failed_load = true;\n    } else if (force !== true) {\n      const cell = $(document.getElementById(\"1290\")).parents('.cell').data().cell;\n      cell.output_area.append_execute_result(NB_LOAD_WARNING)\n    }\n\n  }\n\n  if (root._bokeh_is_loading === 0) {\n    console.debug(\"Bokeh: BokehJS loaded, going straight to plotting\");\n    run_inline_js();\n  } else {\n    load_libs(css_urls, js_urls, function() {\n      console.debug(\"Bokeh: BokehJS plotting callback run at\", now());\n      run_inline_js();\n    });\n  }\n}(window));",
            "application/vnd.bokehjs_load.v0+json": ""
          },
          "metadata": {},
          "output_type": "display_data"
        },
        {
          "data": {
            "text/html": [
              "\n",
              "\n",
              "\n",
              "\n",
              "\n",
              "\n",
              "  <div class=\"bk-root\" id=\"d2f5d69e-7e75-40f3-a8ab-4c3b1b6a786a\" data-root-id=\"1237\"></div>\n"
            ]
          },
          "metadata": {},
          "output_type": "display_data"
        },
        {
          "data": {
            "application/javascript": "(function(root) {\n  function embed_document(root) {\n    \n  const docs_json = {\"0229a727-3227-49b8-adbb-76df0ad0b0c7\":{\"defs\":[],\"roots\":{\"references\":[{\"attributes\":{\"below\":[{\"id\":\"1248\"}],\"center\":[{\"id\":\"1251\"},{\"id\":\"1255\"},{\"id\":\"1286\"}],\"height\":500,\"left\":[{\"id\":\"1252\"}],\"renderers\":[{\"id\":\"1274\"}],\"title\":{\"id\":\"1238\"},\"toolbar\":{\"id\":\"1263\"},\"x_range\":{\"id\":\"1240\"},\"x_scale\":{\"id\":\"1244\"},\"y_range\":{\"id\":\"1242\"},\"y_scale\":{\"id\":\"1246\"}},\"id\":\"1237\",\"subtype\":\"Figure\",\"type\":\"Plot\"},{\"attributes\":{},\"id\":\"1244\",\"type\":\"LinearScale\"},{\"attributes\":{},\"id\":\"1249\",\"type\":\"BasicTicker\"},{\"attributes\":{},\"id\":\"1242\",\"type\":\"DataRange1d\"},{\"attributes\":{\"overlay\":{\"id\":\"1262\"}},\"id\":\"1258\",\"type\":\"BoxZoomTool\"},{\"attributes\":{},\"id\":\"1256\",\"type\":\"PanTool\"},{\"attributes\":{\"line_color\":\"blue\",\"line_width\":3,\"x\":{\"field\":\"x\"},\"y\":{\"field\":\"y\"}},\"id\":\"1271\",\"type\":\"Line\"},{\"attributes\":{\"coordinates\":null,\"data_source\":{\"id\":\"1270\"},\"glyph\":{\"id\":\"1271\"},\"group\":null,\"hover_glyph\":null,\"muted_glyph\":{\"id\":\"1273\"},\"nonselection_glyph\":{\"id\":\"1272\"},\"view\":{\"id\":\"1275\"}},\"id\":\"1274\",\"type\":\"GlyphRenderer\"},{\"attributes\":{\"tools\":[{\"id\":\"1256\"},{\"id\":\"1257\"},{\"id\":\"1258\"},{\"id\":\"1259\"},{\"id\":\"1260\"},{\"id\":\"1261\"}]},\"id\":\"1263\",\"type\":\"Toolbar\"},{\"attributes\":{\"coordinates\":null,\"group\":null,\"items\":[{\"id\":\"1287\"}]},\"id\":\"1286\",\"type\":\"Legend\"},{\"attributes\":{\"line_alpha\":0.1,\"line_color\":\"blue\",\"line_width\":3,\"x\":{\"field\":\"x\"},\"y\":{\"field\":\"y\"}},\"id\":\"1272\",\"type\":\"Line\"},{\"attributes\":{\"axis\":{\"id\":\"1252\"},\"coordinates\":null,\"dimension\":1,\"group\":null,\"ticker\":null},\"id\":\"1255\",\"type\":\"Grid\"},{\"attributes\":{},\"id\":\"1284\",\"type\":\"Selection\"},{\"attributes\":{\"axis_label\":\"x axis\",\"coordinates\":null,\"formatter\":{\"id\":\"1281\"},\"group\":null,\"major_label_policy\":{\"id\":\"1282\"},\"ticker\":{\"id\":\"1249\"}},\"id\":\"1248\",\"type\":\"LinearAxis\"},{\"attributes\":{},\"id\":\"1261\",\"type\":\"HelpTool\"},{\"attributes\":{},\"id\":\"1240\",\"type\":\"DataRange1d\"},{\"attributes\":{},\"id\":\"1278\",\"type\":\"BasicTickFormatter\"},{\"attributes\":{\"data\":{\"x\":[10,9,6,85,6,9],\"y\":[1,5,2,5,6,10]},\"selected\":{\"id\":\"1284\"},\"selection_policy\":{\"id\":\"1283\"}},\"id\":\"1270\",\"type\":\"ColumnDataSource\"},{\"attributes\":{},\"id\":\"1259\",\"type\":\"SaveTool\"},{\"attributes\":{\"label\":{\"value\":\"Random2\"},\"renderers\":[{\"id\":\"1274\"}]},\"id\":\"1287\",\"type\":\"LegendItem\"},{\"attributes\":{\"axis_label\":\"y axis\",\"coordinates\":null,\"formatter\":{\"id\":\"1278\"},\"group\":null,\"major_label_policy\":{\"id\":\"1279\"},\"ticker\":{\"id\":\"1253\"}},\"id\":\"1252\",\"type\":\"LinearAxis\"},{\"attributes\":{},\"id\":\"1279\",\"type\":\"AllLabels\"},{\"attributes\":{},\"id\":\"1260\",\"type\":\"ResetTool\"},{\"attributes\":{},\"id\":\"1283\",\"type\":\"UnionRenderers\"},{\"attributes\":{},\"id\":\"1282\",\"type\":\"AllLabels\"},{\"attributes\":{},\"id\":\"1246\",\"type\":\"LinearScale\"},{\"attributes\":{},\"id\":\"1257\",\"type\":\"WheelZoomTool\"},{\"attributes\":{\"coordinates\":null,\"group\":null,\"text\":\"first line plot\"},\"id\":\"1238\",\"type\":\"Title\"},{\"attributes\":{\"line_alpha\":0.2,\"line_color\":\"blue\",\"line_width\":3,\"x\":{\"field\":\"x\"},\"y\":{\"field\":\"y\"}},\"id\":\"1273\",\"type\":\"Line\"},{\"attributes\":{\"bottom_units\":\"screen\",\"coordinates\":null,\"fill_alpha\":0.5,\"fill_color\":\"lightgrey\",\"group\":null,\"left_units\":\"screen\",\"level\":\"overlay\",\"line_alpha\":1.0,\"line_color\":\"black\",\"line_dash\":[4,4],\"line_width\":2,\"right_units\":\"screen\",\"syncable\":false,\"top_units\":\"screen\"},\"id\":\"1262\",\"type\":\"BoxAnnotation\"},{\"attributes\":{},\"id\":\"1253\",\"type\":\"BasicTicker\"},{\"attributes\":{\"source\":{\"id\":\"1270\"}},\"id\":\"1275\",\"type\":\"CDSView\"},{\"attributes\":{},\"id\":\"1281\",\"type\":\"BasicTickFormatter\"},{\"attributes\":{\"axis\":{\"id\":\"1248\"},\"coordinates\":null,\"group\":null,\"ticker\":null},\"id\":\"1251\",\"type\":\"Grid\"}],\"root_ids\":[\"1237\"]},\"title\":\"Bokeh Application\",\"version\":\"2.4.0\"}};\n  const render_items = [{\"docid\":\"0229a727-3227-49b8-adbb-76df0ad0b0c7\",\"root_ids\":[\"1237\"],\"roots\":{\"1237\":\"d2f5d69e-7e75-40f3-a8ab-4c3b1b6a786a\"}}];\n  root.Bokeh.embed.embed_items_notebook(docs_json, render_items);\n\n  }\n  if (root.Bokeh !== undefined) {\n    embed_document(root);\n  } else {\n    let attempts = 0;\n    const timer = setInterval(function(root) {\n      if (root.Bokeh !== undefined) {\n        clearInterval(timer);\n        embed_document(root);\n      } else {\n        attempts++;\n        if (attempts > 100) {\n          clearInterval(timer);\n          console.log(\"Bokeh: ERROR: Unable to run BokehJS code because BokehJS library is missing\");\n        }\n      }\n    }, 10, root)\n  }\n})(window);",
            "application/vnd.bokehjs_exec.v0+json": ""
          },
          "metadata": {
            "application/vnd.bokehjs_exec.v0+json": {
              "id": "1237"
            }
          },
          "output_type": "display_data"
        }
      ],
      "source": [
        "output_notebook()\n",
        "show(p)"
      ]
    },
    {
      "cell_type": "code",
      "execution_count": 25,
      "metadata": {
        "id": "DjO3ySGovp84"
      },
      "outputs": [
        {
          "name": "stderr",
          "output_type": "stream",
          "text": [
            "Unexpected parameter: id\n",
            "Unexpected parameter: id\n",
            "Unexpected parameter: id\n",
            "Unexpected parameter: id\n",
            "Unexpected parameter: id\n",
            "Unexpected parameter: id\n",
            "Unexpected parameter: id\n",
            "Unexpected parameter: id\n",
            "Unexpected parameter: id\n",
            "Unexpected parameter: id\n"
          ]
        }
      ],
      "source": [
        "number_of_tweets = 200\n",
        "tweets = []\n",
        "likes = []\n",
        "time = []\n",
        "\n",
        "for i in tweepy.Cursor(api.user_timeline, id = 'POTUS', tweet_mode = \"extended\").items(number_of_tweets):\n",
        "  tweets.append(i.full_text)\n",
        "  likes.append(i.favorite_count)\n",
        "  time.append(i.created_at)"
      ]
    },
    {
      "cell_type": "code",
      "execution_count": 26,
      "metadata": {
        "id": "SK1vxukKypxT"
      },
      "outputs": [],
      "source": [
        "df = pd.DataFrame({'tweets':tweets,'likes':likes,'time':time})"
      ]
    },
    {
      "cell_type": "code",
      "execution_count": 27,
      "metadata": {
        "colab": {
          "base_uri": "https://localhost:8080/",
          "height": 424
        },
        "id": "MTg1edagzbtG",
        "outputId": "585e614c-f927-4db1-fbe5-16d872e44fd7"
      },
      "outputs": [
        {
          "data": {
            "text/html": [
              "<div>\n",
              "<style scoped>\n",
              "    .dataframe tbody tr th:only-of-type {\n",
              "        vertical-align: middle;\n",
              "    }\n",
              "\n",
              "    .dataframe tbody tr th {\n",
              "        vertical-align: top;\n",
              "    }\n",
              "\n",
              "    .dataframe thead th {\n",
              "        text-align: right;\n",
              "    }\n",
              "</style>\n",
              "<table border=\"1\" class=\"dataframe\">\n",
              "  <thead>\n",
              "    <tr style=\"text-align: right;\">\n",
              "      <th></th>\n",
              "      <th>tweets</th>\n",
              "      <th>likes</th>\n",
              "      <th>time</th>\n",
              "    </tr>\n",
              "  </thead>\n",
              "  <tbody>\n",
              "    <tr>\n",
              "      <th>0</th>\n",
              "      <td>The United States is experiencing the stronges...</td>\n",
              "      <td>6346</td>\n",
              "      <td>2021-11-24 00:56:05+00:00</td>\n",
              "    </tr>\n",
              "    <tr>\n",
              "      <th>1</th>\n",
              "      <td>Jill and I know firsthand what it means to be ...</td>\n",
              "      <td>11115</td>\n",
              "      <td>2021-11-23 23:59:12+00:00</td>\n",
              "    </tr>\n",
              "    <tr>\n",
              "      <th>2</th>\n",
              "      <td>We are experiencing the strongest economic rec...</td>\n",
              "      <td>14522</td>\n",
              "      <td>2021-11-23 22:06:00+00:00</td>\n",
              "    </tr>\n",
              "    <tr>\n",
              "      <th>3</th>\n",
              "      <td>I will not stand by while oil companies engage...</td>\n",
              "      <td>33430</td>\n",
              "      <td>2021-11-23 21:07:15+00:00</td>\n",
              "    </tr>\n",
              "    <tr>\n",
              "      <th>4</th>\n",
              "      <td>Lower prescription drug costs\\nUniversal presc...</td>\n",
              "      <td>11730</td>\n",
              "      <td>2021-11-23 20:18:38+00:00</td>\n",
              "    </tr>\n",
              "    <tr>\n",
              "      <th>...</th>\n",
              "      <td>...</td>\n",
              "      <td>...</td>\n",
              "      <td>...</td>\n",
              "    </tr>\n",
              "    <tr>\n",
              "      <th>195</th>\n",
              "      <td>Join me as I give an update on the historic Bu...</td>\n",
              "      <td>5951</td>\n",
              "      <td>2021-10-28 15:43:23+00:00</td>\n",
              "    </tr>\n",
              "    <tr>\n",
              "      <th>196</th>\n",
              "      <td>I ran for president saying it was time to rebu...</td>\n",
              "      <td>5243</td>\n",
              "      <td>2021-10-28 15:04:45+00:00</td>\n",
              "    </tr>\n",
              "    <tr>\n",
              "      <th>197</th>\n",
              "      <td>After months of tough and thoughtful negotiati...</td>\n",
              "      <td>9531</td>\n",
              "      <td>2021-10-28 13:10:02+00:00</td>\n",
              "    </tr>\n",
              "    <tr>\n",
              "      <th>198</th>\n",
              "      <td>RT @WhiteHouse: Meet Simeon — a 17-year-old as...</td>\n",
              "      <td>0</td>\n",
              "      <td>2021-10-27 23:33:43+00:00</td>\n",
              "    </tr>\n",
              "    <tr>\n",
              "      <th>199</th>\n",
              "      <td>Universal preschool.\\nHistoric climate investm...</td>\n",
              "      <td>29714</td>\n",
              "      <td>2021-10-27 21:44:27+00:00</td>\n",
              "    </tr>\n",
              "  </tbody>\n",
              "</table>\n",
              "<p>200 rows × 3 columns</p>\n",
              "</div>"
            ],
            "text/plain": [
              "                                                tweets  likes  \\\n",
              "0    The United States is experiencing the stronges...   6346   \n",
              "1    Jill and I know firsthand what it means to be ...  11115   \n",
              "2    We are experiencing the strongest economic rec...  14522   \n",
              "3    I will not stand by while oil companies engage...  33430   \n",
              "4    Lower prescription drug costs\\nUniversal presc...  11730   \n",
              "..                                                 ...    ...   \n",
              "195  Join me as I give an update on the historic Bu...   5951   \n",
              "196  I ran for president saying it was time to rebu...   5243   \n",
              "197  After months of tough and thoughtful negotiati...   9531   \n",
              "198  RT @WhiteHouse: Meet Simeon — a 17-year-old as...      0   \n",
              "199  Universal preschool.\\nHistoric climate investm...  29714   \n",
              "\n",
              "                         time  \n",
              "0   2021-11-24 00:56:05+00:00  \n",
              "1   2021-11-23 23:59:12+00:00  \n",
              "2   2021-11-23 22:06:00+00:00  \n",
              "3   2021-11-23 21:07:15+00:00  \n",
              "4   2021-11-23 20:18:38+00:00  \n",
              "..                        ...  \n",
              "195 2021-10-28 15:43:23+00:00  \n",
              "196 2021-10-28 15:04:45+00:00  \n",
              "197 2021-10-28 13:10:02+00:00  \n",
              "198 2021-10-27 23:33:43+00:00  \n",
              "199 2021-10-27 21:44:27+00:00  \n",
              "\n",
              "[200 rows x 3 columns]"
            ]
          },
          "execution_count": 27,
          "metadata": {},
          "output_type": "execute_result"
        }
      ],
      "source": [
        "df"
      ]
    },
    {
      "cell_type": "code",
      "execution_count": 28,
      "metadata": {
        "colab": {
          "base_uri": "https://localhost:8080/",
          "height": 424
        },
        "id": "Kv7w34t90CE3",
        "outputId": "ddbd4ca9-6e6d-4d7e-9e08-328d7836b15f"
      },
      "outputs": [
        {
          "data": {
            "text/html": [
              "<div>\n",
              "<style scoped>\n",
              "    .dataframe tbody tr th:only-of-type {\n",
              "        vertical-align: middle;\n",
              "    }\n",
              "\n",
              "    .dataframe tbody tr th {\n",
              "        vertical-align: top;\n",
              "    }\n",
              "\n",
              "    .dataframe thead th {\n",
              "        text-align: right;\n",
              "    }\n",
              "</style>\n",
              "<table border=\"1\" class=\"dataframe\">\n",
              "  <thead>\n",
              "    <tr style=\"text-align: right;\">\n",
              "      <th></th>\n",
              "      <th>tweets</th>\n",
              "      <th>likes</th>\n",
              "      <th>time</th>\n",
              "    </tr>\n",
              "  </thead>\n",
              "  <tbody>\n",
              "    <tr>\n",
              "      <th>0</th>\n",
              "      <td>The United States is experiencing the stronges...</td>\n",
              "      <td>6346</td>\n",
              "      <td>2021-11-24 00:56:05+00:00</td>\n",
              "    </tr>\n",
              "    <tr>\n",
              "      <th>1</th>\n",
              "      <td>Jill and I know firsthand what it means to be ...</td>\n",
              "      <td>11115</td>\n",
              "      <td>2021-11-23 23:59:12+00:00</td>\n",
              "    </tr>\n",
              "    <tr>\n",
              "      <th>2</th>\n",
              "      <td>We are experiencing the strongest economic rec...</td>\n",
              "      <td>14522</td>\n",
              "      <td>2021-11-23 22:06:00+00:00</td>\n",
              "    </tr>\n",
              "    <tr>\n",
              "      <th>3</th>\n",
              "      <td>I will not stand by while oil companies engage...</td>\n",
              "      <td>33430</td>\n",
              "      <td>2021-11-23 21:07:15+00:00</td>\n",
              "    </tr>\n",
              "    <tr>\n",
              "      <th>4</th>\n",
              "      <td>Lower prescription drug costs\\nUniversal presc...</td>\n",
              "      <td>11730</td>\n",
              "      <td>2021-11-23 20:18:38+00:00</td>\n",
              "    </tr>\n",
              "    <tr>\n",
              "      <th>...</th>\n",
              "      <td>...</td>\n",
              "      <td>...</td>\n",
              "      <td>...</td>\n",
              "    </tr>\n",
              "    <tr>\n",
              "      <th>194</th>\n",
              "      <td>The framework will:\\n\\n- Create millions of jo...</td>\n",
              "      <td>13246</td>\n",
              "      <td>2021-10-28 17:29:01+00:00</td>\n",
              "    </tr>\n",
              "    <tr>\n",
              "      <th>195</th>\n",
              "      <td>Join me as I give an update on the historic Bu...</td>\n",
              "      <td>5951</td>\n",
              "      <td>2021-10-28 15:43:23+00:00</td>\n",
              "    </tr>\n",
              "    <tr>\n",
              "      <th>196</th>\n",
              "      <td>I ran for president saying it was time to rebu...</td>\n",
              "      <td>5243</td>\n",
              "      <td>2021-10-28 15:04:45+00:00</td>\n",
              "    </tr>\n",
              "    <tr>\n",
              "      <th>197</th>\n",
              "      <td>After months of tough and thoughtful negotiati...</td>\n",
              "      <td>9531</td>\n",
              "      <td>2021-10-28 13:10:02+00:00</td>\n",
              "    </tr>\n",
              "    <tr>\n",
              "      <th>199</th>\n",
              "      <td>Universal preschool.\\nHistoric climate investm...</td>\n",
              "      <td>29714</td>\n",
              "      <td>2021-10-27 21:44:27+00:00</td>\n",
              "    </tr>\n",
              "  </tbody>\n",
              "</table>\n",
              "<p>191 rows × 3 columns</p>\n",
              "</div>"
            ],
            "text/plain": [
              "                                                tweets  likes  \\\n",
              "0    The United States is experiencing the stronges...   6346   \n",
              "1    Jill and I know firsthand what it means to be ...  11115   \n",
              "2    We are experiencing the strongest economic rec...  14522   \n",
              "3    I will not stand by while oil companies engage...  33430   \n",
              "4    Lower prescription drug costs\\nUniversal presc...  11730   \n",
              "..                                                 ...    ...   \n",
              "194  The framework will:\\n\\n- Create millions of jo...  13246   \n",
              "195  Join me as I give an update on the historic Bu...   5951   \n",
              "196  I ran for president saying it was time to rebu...   5243   \n",
              "197  After months of tough and thoughtful negotiati...   9531   \n",
              "199  Universal preschool.\\nHistoric climate investm...  29714   \n",
              "\n",
              "                         time  \n",
              "0   2021-11-24 00:56:05+00:00  \n",
              "1   2021-11-23 23:59:12+00:00  \n",
              "2   2021-11-23 22:06:00+00:00  \n",
              "3   2021-11-23 21:07:15+00:00  \n",
              "4   2021-11-23 20:18:38+00:00  \n",
              "..                        ...  \n",
              "194 2021-10-28 17:29:01+00:00  \n",
              "195 2021-10-28 15:43:23+00:00  \n",
              "196 2021-10-28 15:04:45+00:00  \n",
              "197 2021-10-28 13:10:02+00:00  \n",
              "199 2021-10-27 21:44:27+00:00  \n",
              "\n",
              "[191 rows x 3 columns]"
            ]
          },
          "execution_count": 28,
          "metadata": {},
          "output_type": "execute_result"
        }
      ],
      "source": [
        "df = df[~df.tweets.str.contains(\"RT\")]\n",
        "df"
      ]
    },
    {
      "cell_type": "code",
      "execution_count": 29,
      "metadata": {
        "colab": {
          "base_uri": "https://localhost:8080/",
          "height": 423
        },
        "id": "h1DTjSgG0Xlu",
        "outputId": "5f31c902-c446-4ad6-fcc3-21ed7190c3af"
      },
      "outputs": [
        {
          "data": {
            "text/html": [
              "<div>\n",
              "<style scoped>\n",
              "    .dataframe tbody tr th:only-of-type {\n",
              "        vertical-align: middle;\n",
              "    }\n",
              "\n",
              "    .dataframe tbody tr th {\n",
              "        vertical-align: top;\n",
              "    }\n",
              "\n",
              "    .dataframe thead th {\n",
              "        text-align: right;\n",
              "    }\n",
              "</style>\n",
              "<table border=\"1\" class=\"dataframe\">\n",
              "  <thead>\n",
              "    <tr style=\"text-align: right;\">\n",
              "      <th></th>\n",
              "      <th>tweets</th>\n",
              "      <th>likes</th>\n",
              "      <th>time</th>\n",
              "    </tr>\n",
              "  </thead>\n",
              "  <tbody>\n",
              "    <tr>\n",
              "      <th>0</th>\n",
              "      <td>The United States is experiencing the stronges...</td>\n",
              "      <td>6346</td>\n",
              "      <td>2021-11-24 00:56:05+00:00</td>\n",
              "    </tr>\n",
              "    <tr>\n",
              "      <th>1</th>\n",
              "      <td>Jill and I know firsthand what it means to be ...</td>\n",
              "      <td>11115</td>\n",
              "      <td>2021-11-23 23:59:12+00:00</td>\n",
              "    </tr>\n",
              "    <tr>\n",
              "      <th>2</th>\n",
              "      <td>We are experiencing the strongest economic rec...</td>\n",
              "      <td>14522</td>\n",
              "      <td>2021-11-23 22:06:00+00:00</td>\n",
              "    </tr>\n",
              "    <tr>\n",
              "      <th>3</th>\n",
              "      <td>I will not stand by while oil companies engage...</td>\n",
              "      <td>33430</td>\n",
              "      <td>2021-11-23 21:07:15+00:00</td>\n",
              "    </tr>\n",
              "    <tr>\n",
              "      <th>4</th>\n",
              "      <td>Lower prescription drug costs\\nUniversal presc...</td>\n",
              "      <td>11730</td>\n",
              "      <td>2021-11-23 20:18:38+00:00</td>\n",
              "    </tr>\n",
              "    <tr>\n",
              "      <th>...</th>\n",
              "      <td>...</td>\n",
              "      <td>...</td>\n",
              "      <td>...</td>\n",
              "    </tr>\n",
              "    <tr>\n",
              "      <th>186</th>\n",
              "      <td>The framework will:\\n\\n- Create millions of jo...</td>\n",
              "      <td>13246</td>\n",
              "      <td>2021-10-28 17:29:01+00:00</td>\n",
              "    </tr>\n",
              "    <tr>\n",
              "      <th>187</th>\n",
              "      <td>Join me as I give an update on the historic Bu...</td>\n",
              "      <td>5951</td>\n",
              "      <td>2021-10-28 15:43:23+00:00</td>\n",
              "    </tr>\n",
              "    <tr>\n",
              "      <th>188</th>\n",
              "      <td>I ran for president saying it was time to rebu...</td>\n",
              "      <td>5243</td>\n",
              "      <td>2021-10-28 15:04:45+00:00</td>\n",
              "    </tr>\n",
              "    <tr>\n",
              "      <th>189</th>\n",
              "      <td>After months of tough and thoughtful negotiati...</td>\n",
              "      <td>9531</td>\n",
              "      <td>2021-10-28 13:10:02+00:00</td>\n",
              "    </tr>\n",
              "    <tr>\n",
              "      <th>190</th>\n",
              "      <td>Universal preschool.\\nHistoric climate investm...</td>\n",
              "      <td>29714</td>\n",
              "      <td>2021-10-27 21:44:27+00:00</td>\n",
              "    </tr>\n",
              "  </tbody>\n",
              "</table>\n",
              "<p>191 rows × 3 columns</p>\n",
              "</div>"
            ],
            "text/plain": [
              "                                                tweets  likes  \\\n",
              "0    The United States is experiencing the stronges...   6346   \n",
              "1    Jill and I know firsthand what it means to be ...  11115   \n",
              "2    We are experiencing the strongest economic rec...  14522   \n",
              "3    I will not stand by while oil companies engage...  33430   \n",
              "4    Lower prescription drug costs\\nUniversal presc...  11730   \n",
              "..                                                 ...    ...   \n",
              "186  The framework will:\\n\\n- Create millions of jo...  13246   \n",
              "187  Join me as I give an update on the historic Bu...   5951   \n",
              "188  I ran for president saying it was time to rebu...   5243   \n",
              "189  After months of tough and thoughtful negotiati...   9531   \n",
              "190  Universal preschool.\\nHistoric climate investm...  29714   \n",
              "\n",
              "                         time  \n",
              "0   2021-11-24 00:56:05+00:00  \n",
              "1   2021-11-23 23:59:12+00:00  \n",
              "2   2021-11-23 22:06:00+00:00  \n",
              "3   2021-11-23 21:07:15+00:00  \n",
              "4   2021-11-23 20:18:38+00:00  \n",
              "..                        ...  \n",
              "186 2021-10-28 17:29:01+00:00  \n",
              "187 2021-10-28 15:43:23+00:00  \n",
              "188 2021-10-28 15:04:45+00:00  \n",
              "189 2021-10-28 13:10:02+00:00  \n",
              "190 2021-10-27 21:44:27+00:00  \n",
              "\n",
              "[191 rows x 3 columns]"
            ]
          },
          "execution_count": 29,
          "metadata": {},
          "output_type": "execute_result"
        }
      ],
      "source": [
        "df = df.reset_index(drop = True)\n",
        "df"
      ]
    },
    {
      "cell_type": "code",
      "execution_count": 30,
      "metadata": {
        "colab": {
          "base_uri": "https://localhost:8080/",
          "height": 206
        },
        "id": "Yy0gwMg-0lFK",
        "outputId": "d337e506-b1fe-4343-b0b9-31de3eea63c0"
      },
      "outputs": [
        {
          "data": {
            "text/html": [
              "<div>\n",
              "<style scoped>\n",
              "    .dataframe tbody tr th:only-of-type {\n",
              "        vertical-align: middle;\n",
              "    }\n",
              "\n",
              "    .dataframe tbody tr th {\n",
              "        vertical-align: top;\n",
              "    }\n",
              "\n",
              "    .dataframe thead th {\n",
              "        text-align: right;\n",
              "    }\n",
              "</style>\n",
              "<table border=\"1\" class=\"dataframe\">\n",
              "  <thead>\n",
              "    <tr style=\"text-align: right;\">\n",
              "      <th></th>\n",
              "      <th>tweets</th>\n",
              "      <th>likes</th>\n",
              "      <th>time</th>\n",
              "    </tr>\n",
              "  </thead>\n",
              "  <tbody>\n",
              "    <tr>\n",
              "      <th>131</th>\n",
              "      <td>May the light of Diwali remind us that from da...</td>\n",
              "      <td>174687</td>\n",
              "      <td>2021-11-04 14:46:04+00:00</td>\n",
              "    </tr>\n",
              "    <tr>\n",
              "      <th>61</th>\n",
              "      <td>It’s official, folks: I’ve signed the Bipartis...</td>\n",
              "      <td>166549</td>\n",
              "      <td>2021-11-15 21:22:30+00:00</td>\n",
              "    </tr>\n",
              "    <tr>\n",
              "      <th>78</th>\n",
              "      <td>Not one, not two, not three, but seventeen Nob...</td>\n",
              "      <td>74652</td>\n",
              "      <td>2021-11-12 14:32:22+00:00</td>\n",
              "    </tr>\n",
              "    <tr>\n",
              "      <th>69</th>\n",
              "      <td>Under my predecessor, infrastructure week was ...</td>\n",
              "      <td>74610</td>\n",
              "      <td>2021-11-14 16:29:05+00:00</td>\n",
              "    </tr>\n",
              "    <tr>\n",
              "      <th>16</th>\n",
              "      <td>Millions of folks across the country have diab...</td>\n",
              "      <td>72134</td>\n",
              "      <td>2021-11-21 23:05:11+00:00</td>\n",
              "    </tr>\n",
              "  </tbody>\n",
              "</table>\n",
              "</div>"
            ],
            "text/plain": [
              "                                                tweets   likes  \\\n",
              "131  May the light of Diwali remind us that from da...  174687   \n",
              "61   It’s official, folks: I’ve signed the Bipartis...  166549   \n",
              "78   Not one, not two, not three, but seventeen Nob...   74652   \n",
              "69   Under my predecessor, infrastructure week was ...   74610   \n",
              "16   Millions of folks across the country have diab...   72134   \n",
              "\n",
              "                         time  \n",
              "131 2021-11-04 14:46:04+00:00  \n",
              "61  2021-11-15 21:22:30+00:00  \n",
              "78  2021-11-12 14:32:22+00:00  \n",
              "69  2021-11-14 16:29:05+00:00  \n",
              "16  2021-11-21 23:05:11+00:00  "
            ]
          },
          "execution_count": 30,
          "metadata": {},
          "output_type": "execute_result"
        }
      ],
      "source": [
        "mostlike = df.loc[df.likes.nlargest(5).index]\n",
        "mostlike"
      ]
    }
  ],
  "metadata": {
    "colab": {
      "collapsed_sections": [],
      "name": "Copy of Test.ipynb",
      "provenance": []
    },
    "kernelspec": {
      "display_name": "Python 3",
      "name": "python3"
    },
    "language_info": {
      "codemirror_mode": {
        "name": "ipython",
        "version": 3
      },
      "file_extension": ".py",
      "mimetype": "text/x-python",
      "name": "python",
      "nbconvert_exporter": "python",
      "pygments_lexer": "ipython3",
      "version": "3.9.6"
    }
  },
  "nbformat": 4,
  "nbformat_minor": 0
}
